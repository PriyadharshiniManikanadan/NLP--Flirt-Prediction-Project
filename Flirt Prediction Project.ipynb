{
 "cells": [
  {
   "cell_type": "markdown",
   "id": "1db5e28b-38ba-496a-9475-566a49a67732",
   "metadata": {},
   "source": [
    "# NLP - Assignment\n",
    "# Flirt Prediction Model"
   ]
  },
  {
   "cell_type": "markdown",
   "id": "cd831b60-2d55-4f3a-b06a-6acfa1cf4d36",
   "metadata": {},
   "source": [
    "### Import relevent libraries"
   ]
  },
  {
   "cell_type": "code",
   "execution_count": 1,
   "id": "d70f1339-59ba-45cb-a8ed-b6372293b2ce",
   "metadata": {},
   "outputs": [],
   "source": [
    "import pandas as pd\n",
    "import numpy as np\n",
    "import seaborn as sb\n",
    "import matplotlib.pyplot as plt\n",
    "import warnings\n",
    "warnings.filterwarnings(\"ignore\")\n",
    "from sklearn.model_selection import train_test_split\n",
    "from sklearn.feature_extraction.text import CountVectorizer, TfidfVectorizer\n",
    "from sklearn.metrics import accuracy_score\n",
    "from sklearn.linear_model import LogisticRegression\n",
    "from sklearn.neighbors import KNeighborsClassifier\n",
    "from sklearn.naive_bayes import MultinomialNB\n",
    "from sklearn.svm import SVC\n",
    "from sklearn.tree import DecisionTreeClassifier\n",
    "from sklearn.ensemble import RandomForestClassifier\n",
    "from sklearn.linear_model import PassiveAggressiveClassifier"
   ]
  },
  {
   "cell_type": "markdown",
   "id": "788e2384-2ec0-43f9-863e-c62c313a767a",
   "metadata": {},
   "source": [
    "## Data Collection"
   ]
  },
  {
   "cell_type": "code",
   "execution_count": 2,
   "id": "1f5ed5a0-e674-4c77-ae11-4784e5adcf37",
   "metadata": {},
   "outputs": [],
   "source": [
    "raw_data = pd.read_csv('Poorna Chat.txt', header=None, on_bad_lines='warn', encoding = 'utf8')"
   ]
  },
  {
   "cell_type": "code",
   "execution_count": 3,
   "id": "59de662b-c82f-42ff-946e-46eb022dbc2a",
   "metadata": {},
   "outputs": [
    {
     "data": {
      "text/html": [
       "<div>\n",
       "<style scoped>\n",
       "    .dataframe tbody tr th:only-of-type {\n",
       "        vertical-align: middle;\n",
       "    }\n",
       "\n",
       "    .dataframe tbody tr th {\n",
       "        vertical-align: top;\n",
       "    }\n",
       "\n",
       "    .dataframe thead th {\n",
       "        text-align: right;\n",
       "    }\n",
       "</style>\n",
       "<table border=\"1\" class=\"dataframe\">\n",
       "  <thead>\n",
       "    <tr style=\"text-align: right;\">\n",
       "      <th></th>\n",
       "      <th>0</th>\n",
       "      <th>1</th>\n",
       "    </tr>\n",
       "  </thead>\n",
       "  <tbody>\n",
       "    <tr>\n",
       "      <th>0</th>\n",
       "      <td>12/7/16</td>\n",
       "      <td>11:46 PM - Poooor: Hello!</td>\n",
       "    </tr>\n",
       "    <tr>\n",
       "      <th>1</th>\n",
       "      <td>12/7/16</td>\n",
       "      <td>11:46 PM - Poooor: &lt;Media omitted&gt;</td>\n",
       "    </tr>\n",
       "    <tr>\n",
       "      <th>2</th>\n",
       "      <td>12/7/16</td>\n",
       "      <td>11:47 PM - Priya Manikandan😘: Who's dis</td>\n",
       "    </tr>\n",
       "    <tr>\n",
       "      <th>3</th>\n",
       "      <td>12/7/16</td>\n",
       "      <td>11:47 PM - Poooor: 👌🏻👌🏻👌🏻👌🏻</td>\n",
       "    </tr>\n",
       "    <tr>\n",
       "      <th>4</th>\n",
       "      <td>12/7/16</td>\n",
       "      <td>11:48 PM - Priya Manikandan😘: Lost all my con...</td>\n",
       "    </tr>\n",
       "    <tr>\n",
       "      <th>...</th>\n",
       "      <td>...</td>\n",
       "      <td>...</td>\n",
       "    </tr>\n",
       "    <tr>\n",
       "      <th>5749</th>\n",
       "      <td>12/4/24</td>\n",
       "      <td>10:00 PM - Poooor: My Mind is only with appa</td>\n",
       "    </tr>\n",
       "    <tr>\n",
       "      <th>5750</th>\n",
       "      <td>12/4/24</td>\n",
       "      <td>10:00 PM - Poooor: Pack panave thonala</td>\n",
       "    </tr>\n",
       "    <tr>\n",
       "      <th>5751</th>\n",
       "      <td>12/4/24</td>\n",
       "      <td>10:00 PM - Poooor: What to speak with him how...</td>\n",
       "    </tr>\n",
       "    <tr>\n",
       "      <th>5752</th>\n",
       "      <td>12/4/24</td>\n",
       "      <td>10:18 PM - Priya Manikandan😘: Ne porardhe ava...</td>\n",
       "    </tr>\n",
       "    <tr>\n",
       "      <th>5753</th>\n",
       "      <td>12/4/24</td>\n",
       "      <td>11:49 PM - Poooor: Hm</td>\n",
       "    </tr>\n",
       "  </tbody>\n",
       "</table>\n",
       "<p>5754 rows × 2 columns</p>\n",
       "</div>"
      ],
      "text/plain": [
       "            0                                                  1\n",
       "0     12/7/16                          11:46 PM - Poooor: Hello!\n",
       "1     12/7/16                 11:46 PM - Poooor: <Media omitted>\n",
       "2     12/7/16            11:47 PM - Priya Manikandan😘: Who's dis\n",
       "3     12/7/16                        11:47 PM - Poooor: 👌🏻👌🏻👌🏻👌🏻\n",
       "4     12/7/16   11:48 PM - Priya Manikandan😘: Lost all my con...\n",
       "...       ...                                                ...\n",
       "5749  12/4/24       10:00 PM - Poooor: My Mind is only with appa\n",
       "5750  12/4/24             10:00 PM - Poooor: Pack panave thonala\n",
       "5751  12/4/24   10:00 PM - Poooor: What to speak with him how...\n",
       "5752  12/4/24   10:18 PM - Priya Manikandan😘: Ne porardhe ava...\n",
       "5753  12/4/24                              11:49 PM - Poooor: Hm\n",
       "\n",
       "[5754 rows x 2 columns]"
      ]
     },
     "execution_count": 3,
     "metadata": {},
     "output_type": "execute_result"
    }
   ],
   "source": [
    "raw_data"
   ]
  },
  {
   "cell_type": "markdown",
   "id": "8a73a311-6569-4a0d-b030-e97ea70c45cc",
   "metadata": {},
   "source": [
    "## Data Preprocessing"
   ]
  },
  {
   "cell_type": "code",
   "execution_count": 4,
   "id": "2e8bb950-2306-468a-bb3e-f0077408eb41",
   "metadata": {},
   "outputs": [],
   "source": [
    "data = raw_data"
   ]
  },
  {
   "cell_type": "code",
   "execution_count": 5,
   "id": "cea72f39-aa2e-4a65-92ec-92b012f78e56",
   "metadata": {},
   "outputs": [
    {
     "data": {
      "text/html": [
       "<div>\n",
       "<style scoped>\n",
       "    .dataframe tbody tr th:only-of-type {\n",
       "        vertical-align: middle;\n",
       "    }\n",
       "\n",
       "    .dataframe tbody tr th {\n",
       "        vertical-align: top;\n",
       "    }\n",
       "\n",
       "    .dataframe thead th {\n",
       "        text-align: right;\n",
       "    }\n",
       "</style>\n",
       "<table border=\"1\" class=\"dataframe\">\n",
       "  <thead>\n",
       "    <tr style=\"text-align: right;\">\n",
       "      <th></th>\n",
       "      <th>Date</th>\n",
       "      <th>Chat</th>\n",
       "    </tr>\n",
       "  </thead>\n",
       "  <tbody>\n",
       "    <tr>\n",
       "      <th>0</th>\n",
       "      <td>12/7/16</td>\n",
       "      <td>11:46 PM - Poooor: Hello!</td>\n",
       "    </tr>\n",
       "    <tr>\n",
       "      <th>1</th>\n",
       "      <td>12/7/16</td>\n",
       "      <td>11:46 PM - Poooor: &lt;Media omitted&gt;</td>\n",
       "    </tr>\n",
       "    <tr>\n",
       "      <th>2</th>\n",
       "      <td>12/7/16</td>\n",
       "      <td>11:47 PM - Priya Manikandan😘: Who's dis</td>\n",
       "    </tr>\n",
       "    <tr>\n",
       "      <th>3</th>\n",
       "      <td>12/7/16</td>\n",
       "      <td>11:47 PM - Poooor: 👌🏻👌🏻👌🏻👌🏻</td>\n",
       "    </tr>\n",
       "    <tr>\n",
       "      <th>4</th>\n",
       "      <td>12/7/16</td>\n",
       "      <td>11:48 PM - Priya Manikandan😘: Lost all my con...</td>\n",
       "    </tr>\n",
       "    <tr>\n",
       "      <th>...</th>\n",
       "      <td>...</td>\n",
       "      <td>...</td>\n",
       "    </tr>\n",
       "    <tr>\n",
       "      <th>5749</th>\n",
       "      <td>12/4/24</td>\n",
       "      <td>10:00 PM - Poooor: My Mind is only with appa</td>\n",
       "    </tr>\n",
       "    <tr>\n",
       "      <th>5750</th>\n",
       "      <td>12/4/24</td>\n",
       "      <td>10:00 PM - Poooor: Pack panave thonala</td>\n",
       "    </tr>\n",
       "    <tr>\n",
       "      <th>5751</th>\n",
       "      <td>12/4/24</td>\n",
       "      <td>10:00 PM - Poooor: What to speak with him how...</td>\n",
       "    </tr>\n",
       "    <tr>\n",
       "      <th>5752</th>\n",
       "      <td>12/4/24</td>\n",
       "      <td>10:18 PM - Priya Manikandan😘: Ne porardhe ava...</td>\n",
       "    </tr>\n",
       "    <tr>\n",
       "      <th>5753</th>\n",
       "      <td>12/4/24</td>\n",
       "      <td>11:49 PM - Poooor: Hm</td>\n",
       "    </tr>\n",
       "  </tbody>\n",
       "</table>\n",
       "<p>5754 rows × 2 columns</p>\n",
       "</div>"
      ],
      "text/plain": [
       "         Date                                               Chat\n",
       "0     12/7/16                          11:46 PM - Poooor: Hello!\n",
       "1     12/7/16                 11:46 PM - Poooor: <Media omitted>\n",
       "2     12/7/16            11:47 PM - Priya Manikandan😘: Who's dis\n",
       "3     12/7/16                        11:47 PM - Poooor: 👌🏻👌🏻👌🏻👌🏻\n",
       "4     12/7/16   11:48 PM - Priya Manikandan😘: Lost all my con...\n",
       "...       ...                                                ...\n",
       "5749  12/4/24       10:00 PM - Poooor: My Mind is only with appa\n",
       "5750  12/4/24             10:00 PM - Poooor: Pack panave thonala\n",
       "5751  12/4/24   10:00 PM - Poooor: What to speak with him how...\n",
       "5752  12/4/24   10:18 PM - Priya Manikandan😘: Ne porardhe ava...\n",
       "5753  12/4/24                              11:49 PM - Poooor: Hm\n",
       "\n",
       "[5754 rows x 2 columns]"
      ]
     },
     "execution_count": 5,
     "metadata": {},
     "output_type": "execute_result"
    }
   ],
   "source": [
    "data.columns = ['Date','Chat']\n",
    "data"
   ]
  },
  {
   "cell_type": "code",
   "execution_count": 6,
   "id": "ab97e8ef-15fc-4a62-984b-d3edeab09528",
   "metadata": {},
   "outputs": [
    {
     "data": {
      "text/html": [
       "<div>\n",
       "<style scoped>\n",
       "    .dataframe tbody tr th:only-of-type {\n",
       "        vertical-align: middle;\n",
       "    }\n",
       "\n",
       "    .dataframe tbody tr th {\n",
       "        vertical-align: top;\n",
       "    }\n",
       "\n",
       "    .dataframe thead th {\n",
       "        text-align: right;\n",
       "    }\n",
       "</style>\n",
       "<table border=\"1\" class=\"dataframe\">\n",
       "  <thead>\n",
       "    <tr style=\"text-align: right;\">\n",
       "      <th></th>\n",
       "      <th>Date</th>\n",
       "      <th>Chat</th>\n",
       "      <th>Time</th>\n",
       "    </tr>\n",
       "  </thead>\n",
       "  <tbody>\n",
       "    <tr>\n",
       "      <th>0</th>\n",
       "      <td>12/7/16</td>\n",
       "      <td>11:46 PM - Poooor: Hello!</td>\n",
       "      <td>11:46 PM</td>\n",
       "    </tr>\n",
       "    <tr>\n",
       "      <th>1</th>\n",
       "      <td>12/7/16</td>\n",
       "      <td>11:46 PM - Poooor: &lt;Media omitted&gt;</td>\n",
       "      <td>11:46 PM</td>\n",
       "    </tr>\n",
       "    <tr>\n",
       "      <th>2</th>\n",
       "      <td>12/7/16</td>\n",
       "      <td>11:47 PM - Priya Manikandan😘: Who's dis</td>\n",
       "      <td>11:47 PM</td>\n",
       "    </tr>\n",
       "    <tr>\n",
       "      <th>3</th>\n",
       "      <td>12/7/16</td>\n",
       "      <td>11:47 PM - Poooor: 👌🏻👌🏻👌🏻👌🏻</td>\n",
       "      <td>11:47 PM</td>\n",
       "    </tr>\n",
       "    <tr>\n",
       "      <th>4</th>\n",
       "      <td>12/7/16</td>\n",
       "      <td>11:48 PM - Priya Manikandan😘: Lost all my con...</td>\n",
       "      <td>11:48 PM</td>\n",
       "    </tr>\n",
       "    <tr>\n",
       "      <th>...</th>\n",
       "      <td>...</td>\n",
       "      <td>...</td>\n",
       "      <td>...</td>\n",
       "    </tr>\n",
       "    <tr>\n",
       "      <th>5749</th>\n",
       "      <td>12/4/24</td>\n",
       "      <td>10:00 PM - Poooor: My Mind is only with appa</td>\n",
       "      <td>10:00 PM</td>\n",
       "    </tr>\n",
       "    <tr>\n",
       "      <th>5750</th>\n",
       "      <td>12/4/24</td>\n",
       "      <td>10:00 PM - Poooor: Pack panave thonala</td>\n",
       "      <td>10:00 PM</td>\n",
       "    </tr>\n",
       "    <tr>\n",
       "      <th>5751</th>\n",
       "      <td>12/4/24</td>\n",
       "      <td>10:00 PM - Poooor: What to speak with him how...</td>\n",
       "      <td>10:00 PM</td>\n",
       "    </tr>\n",
       "    <tr>\n",
       "      <th>5752</th>\n",
       "      <td>12/4/24</td>\n",
       "      <td>10:18 PM - Priya Manikandan😘: Ne porardhe ava...</td>\n",
       "      <td>10:18 PM</td>\n",
       "    </tr>\n",
       "    <tr>\n",
       "      <th>5753</th>\n",
       "      <td>12/4/24</td>\n",
       "      <td>11:49 PM - Poooor: Hm</td>\n",
       "      <td>11:49 PM</td>\n",
       "    </tr>\n",
       "  </tbody>\n",
       "</table>\n",
       "<p>5754 rows × 3 columns</p>\n",
       "</div>"
      ],
      "text/plain": [
       "         Date                                               Chat        Time\n",
       "0     12/7/16                          11:46 PM - Poooor: Hello!   11:46 PM \n",
       "1     12/7/16                 11:46 PM - Poooor: <Media omitted>   11:46 PM \n",
       "2     12/7/16            11:47 PM - Priya Manikandan😘: Who's dis   11:47 PM \n",
       "3     12/7/16                        11:47 PM - Poooor: 👌🏻👌🏻👌🏻👌🏻   11:47 PM \n",
       "4     12/7/16   11:48 PM - Priya Manikandan😘: Lost all my con...   11:48 PM \n",
       "...       ...                                                ...         ...\n",
       "5749  12/4/24       10:00 PM - Poooor: My Mind is only with appa   10:00 PM \n",
       "5750  12/4/24             10:00 PM - Poooor: Pack panave thonala   10:00 PM \n",
       "5751  12/4/24   10:00 PM - Poooor: What to speak with him how...   10:00 PM \n",
       "5752  12/4/24   10:18 PM - Priya Manikandan😘: Ne porardhe ava...   10:18 PM \n",
       "5753  12/4/24                              11:49 PM - Poooor: Hm   11:49 PM \n",
       "\n",
       "[5754 rows x 3 columns]"
      ]
     },
     "execution_count": 6,
     "metadata": {},
     "output_type": "execute_result"
    }
   ],
   "source": [
    "Mess = data['Chat'].str.split('-',n=1,expand=True)\n",
    "Mess.columns = ['Time','Chat']\n",
    "data['Time'] = Mess['Time']\n",
    "data"
   ]
  },
  {
   "cell_type": "code",
   "execution_count": 7,
   "id": "bbee22b9-aa58-4308-bdb8-eea2101533c0",
   "metadata": {},
   "outputs": [],
   "source": [
    "Mess1 = Mess['Chat'].str.split(':',n=1,expand=True)\n",
    "Mess1.columns = ['Name', 'Chats']\n",
    "data['Name'] = Mess1['Name']\n",
    "data['Message'] = Mess1['Chats']"
   ]
  },
  {
   "cell_type": "code",
   "execution_count": 8,
   "id": "74dca8d3-c9e1-4f8a-bd08-5e015805f38f",
   "metadata": {},
   "outputs": [
    {
     "data": {
      "text/html": [
       "<div>\n",
       "<style scoped>\n",
       "    .dataframe tbody tr th:only-of-type {\n",
       "        vertical-align: middle;\n",
       "    }\n",
       "\n",
       "    .dataframe tbody tr th {\n",
       "        vertical-align: top;\n",
       "    }\n",
       "\n",
       "    .dataframe thead th {\n",
       "        text-align: right;\n",
       "    }\n",
       "</style>\n",
       "<table border=\"1\" class=\"dataframe\">\n",
       "  <thead>\n",
       "    <tr style=\"text-align: right;\">\n",
       "      <th></th>\n",
       "      <th>Date</th>\n",
       "      <th>Chat</th>\n",
       "      <th>Time</th>\n",
       "      <th>Name</th>\n",
       "      <th>Message</th>\n",
       "    </tr>\n",
       "  </thead>\n",
       "  <tbody>\n",
       "    <tr>\n",
       "      <th>0</th>\n",
       "      <td>12/7/16</td>\n",
       "      <td>11:46 PM - Poooor: Hello!</td>\n",
       "      <td>11:46 PM</td>\n",
       "      <td>Poooor</td>\n",
       "      <td>Hello!</td>\n",
       "    </tr>\n",
       "    <tr>\n",
       "      <th>1</th>\n",
       "      <td>12/7/16</td>\n",
       "      <td>11:46 PM - Poooor: &lt;Media omitted&gt;</td>\n",
       "      <td>11:46 PM</td>\n",
       "      <td>Poooor</td>\n",
       "      <td>&lt;Media omitted&gt;</td>\n",
       "    </tr>\n",
       "    <tr>\n",
       "      <th>2</th>\n",
       "      <td>12/7/16</td>\n",
       "      <td>11:47 PM - Priya Manikandan😘: Who's dis</td>\n",
       "      <td>11:47 PM</td>\n",
       "      <td>Priya Manikandan😘</td>\n",
       "      <td>Who's dis</td>\n",
       "    </tr>\n",
       "    <tr>\n",
       "      <th>3</th>\n",
       "      <td>12/7/16</td>\n",
       "      <td>11:47 PM - Poooor: 👌🏻👌🏻👌🏻👌🏻</td>\n",
       "      <td>11:47 PM</td>\n",
       "      <td>Poooor</td>\n",
       "      <td>👌🏻👌🏻👌🏻👌🏻</td>\n",
       "    </tr>\n",
       "    <tr>\n",
       "      <th>4</th>\n",
       "      <td>12/7/16</td>\n",
       "      <td>11:48 PM - Priya Manikandan😘: Lost all my con...</td>\n",
       "      <td>11:48 PM</td>\n",
       "      <td>Priya Manikandan😘</td>\n",
       "      <td>Lost all my contacts few weeks back</td>\n",
       "    </tr>\n",
       "    <tr>\n",
       "      <th>...</th>\n",
       "      <td>...</td>\n",
       "      <td>...</td>\n",
       "      <td>...</td>\n",
       "      <td>...</td>\n",
       "      <td>...</td>\n",
       "    </tr>\n",
       "    <tr>\n",
       "      <th>5749</th>\n",
       "      <td>12/4/24</td>\n",
       "      <td>10:00 PM - Poooor: My Mind is only with appa</td>\n",
       "      <td>10:00 PM</td>\n",
       "      <td>Poooor</td>\n",
       "      <td>My Mind is only with appa</td>\n",
       "    </tr>\n",
       "    <tr>\n",
       "      <th>5750</th>\n",
       "      <td>12/4/24</td>\n",
       "      <td>10:00 PM - Poooor: Pack panave thonala</td>\n",
       "      <td>10:00 PM</td>\n",
       "      <td>Poooor</td>\n",
       "      <td>Pack panave thonala</td>\n",
       "    </tr>\n",
       "    <tr>\n",
       "      <th>5751</th>\n",
       "      <td>12/4/24</td>\n",
       "      <td>10:00 PM - Poooor: What to speak with him how...</td>\n",
       "      <td>10:00 PM</td>\n",
       "      <td>Poooor</td>\n",
       "      <td>What to speak with him how to console him nu ...</td>\n",
       "    </tr>\n",
       "    <tr>\n",
       "      <th>5752</th>\n",
       "      <td>12/4/24</td>\n",
       "      <td>10:18 PM - Priya Manikandan😘: Ne porardhe ava...</td>\n",
       "      <td>10:18 PM</td>\n",
       "      <td>Priya Manikandan😘</td>\n",
       "      <td>Ne porardhe avarku oru periya mind changer ah...</td>\n",
       "    </tr>\n",
       "    <tr>\n",
       "      <th>5753</th>\n",
       "      <td>12/4/24</td>\n",
       "      <td>11:49 PM - Poooor: Hm</td>\n",
       "      <td>11:49 PM</td>\n",
       "      <td>Poooor</td>\n",
       "      <td>Hm</td>\n",
       "    </tr>\n",
       "  </tbody>\n",
       "</table>\n",
       "<p>5754 rows × 5 columns</p>\n",
       "</div>"
      ],
      "text/plain": [
       "         Date                                               Chat        Time  \\\n",
       "0     12/7/16                          11:46 PM - Poooor: Hello!   11:46 PM    \n",
       "1     12/7/16                 11:46 PM - Poooor: <Media omitted>   11:46 PM    \n",
       "2     12/7/16            11:47 PM - Priya Manikandan😘: Who's dis   11:47 PM    \n",
       "3     12/7/16                        11:47 PM - Poooor: 👌🏻👌🏻👌🏻👌🏻   11:47 PM    \n",
       "4     12/7/16   11:48 PM - Priya Manikandan😘: Lost all my con...   11:48 PM    \n",
       "...       ...                                                ...         ...   \n",
       "5749  12/4/24       10:00 PM - Poooor: My Mind is only with appa   10:00 PM    \n",
       "5750  12/4/24             10:00 PM - Poooor: Pack panave thonala   10:00 PM    \n",
       "5751  12/4/24   10:00 PM - Poooor: What to speak with him how...   10:00 PM    \n",
       "5752  12/4/24   10:18 PM - Priya Manikandan😘: Ne porardhe ava...   10:18 PM    \n",
       "5753  12/4/24                              11:49 PM - Poooor: Hm   11:49 PM    \n",
       "\n",
       "                    Name                                            Message  \n",
       "0                 Poooor                                             Hello!  \n",
       "1                 Poooor                                    <Media omitted>  \n",
       "2      Priya Manikandan😘                                          Who's dis  \n",
       "3                 Poooor                                           👌🏻👌🏻👌🏻👌🏻  \n",
       "4      Priya Manikandan😘                Lost all my contacts few weeks back  \n",
       "...                  ...                                                ...  \n",
       "5749              Poooor                          My Mind is only with appa  \n",
       "5750              Poooor                                Pack panave thonala  \n",
       "5751              Poooor   What to speak with him how to console him nu ...  \n",
       "5752   Priya Manikandan😘   Ne porardhe avarku oru periya mind changer ah...  \n",
       "5753              Poooor                                                 Hm  \n",
       "\n",
       "[5754 rows x 5 columns]"
      ]
     },
     "execution_count": 8,
     "metadata": {},
     "output_type": "execute_result"
    }
   ],
   "source": [
    "data"
   ]
  },
  {
   "cell_type": "code",
   "execution_count": 9,
   "id": "c3675e60-657f-4337-ad13-790eadf0deb0",
   "metadata": {
    "scrolled": true
   },
   "outputs": [],
   "source": [
    "data.drop('Chat', axis=1, inplace=True)"
   ]
  },
  {
   "cell_type": "code",
   "execution_count": 10,
   "id": "107a6ccd-80cb-4fe2-9e3a-1f01d4d52003",
   "metadata": {},
   "outputs": [
    {
     "data": {
      "text/html": [
       "<div>\n",
       "<style scoped>\n",
       "    .dataframe tbody tr th:only-of-type {\n",
       "        vertical-align: middle;\n",
       "    }\n",
       "\n",
       "    .dataframe tbody tr th {\n",
       "        vertical-align: top;\n",
       "    }\n",
       "\n",
       "    .dataframe thead th {\n",
       "        text-align: right;\n",
       "    }\n",
       "</style>\n",
       "<table border=\"1\" class=\"dataframe\">\n",
       "  <thead>\n",
       "    <tr style=\"text-align: right;\">\n",
       "      <th></th>\n",
       "      <th>Date</th>\n",
       "      <th>Time</th>\n",
       "      <th>Name</th>\n",
       "      <th>Message</th>\n",
       "    </tr>\n",
       "  </thead>\n",
       "  <tbody>\n",
       "    <tr>\n",
       "      <th>0</th>\n",
       "      <td>12/7/16</td>\n",
       "      <td>11:46 PM</td>\n",
       "      <td>Poooor</td>\n",
       "      <td>Hello!</td>\n",
       "    </tr>\n",
       "    <tr>\n",
       "      <th>1</th>\n",
       "      <td>12/7/16</td>\n",
       "      <td>11:46 PM</td>\n",
       "      <td>Poooor</td>\n",
       "      <td>&lt;Media omitted&gt;</td>\n",
       "    </tr>\n",
       "    <tr>\n",
       "      <th>2</th>\n",
       "      <td>12/7/16</td>\n",
       "      <td>11:47 PM</td>\n",
       "      <td>Priya Manikandan😘</td>\n",
       "      <td>Who's dis</td>\n",
       "    </tr>\n",
       "    <tr>\n",
       "      <th>3</th>\n",
       "      <td>12/7/16</td>\n",
       "      <td>11:47 PM</td>\n",
       "      <td>Poooor</td>\n",
       "      <td>👌🏻👌🏻👌🏻👌🏻</td>\n",
       "    </tr>\n",
       "    <tr>\n",
       "      <th>4</th>\n",
       "      <td>12/7/16</td>\n",
       "      <td>11:48 PM</td>\n",
       "      <td>Priya Manikandan😘</td>\n",
       "      <td>Lost all my contacts few weeks back</td>\n",
       "    </tr>\n",
       "    <tr>\n",
       "      <th>...</th>\n",
       "      <td>...</td>\n",
       "      <td>...</td>\n",
       "      <td>...</td>\n",
       "      <td>...</td>\n",
       "    </tr>\n",
       "    <tr>\n",
       "      <th>5749</th>\n",
       "      <td>12/4/24</td>\n",
       "      <td>10:00 PM</td>\n",
       "      <td>Poooor</td>\n",
       "      <td>My Mind is only with appa</td>\n",
       "    </tr>\n",
       "    <tr>\n",
       "      <th>5750</th>\n",
       "      <td>12/4/24</td>\n",
       "      <td>10:00 PM</td>\n",
       "      <td>Poooor</td>\n",
       "      <td>Pack panave thonala</td>\n",
       "    </tr>\n",
       "    <tr>\n",
       "      <th>5751</th>\n",
       "      <td>12/4/24</td>\n",
       "      <td>10:00 PM</td>\n",
       "      <td>Poooor</td>\n",
       "      <td>What to speak with him how to console him nu ...</td>\n",
       "    </tr>\n",
       "    <tr>\n",
       "      <th>5752</th>\n",
       "      <td>12/4/24</td>\n",
       "      <td>10:18 PM</td>\n",
       "      <td>Priya Manikandan😘</td>\n",
       "      <td>Ne porardhe avarku oru periya mind changer ah...</td>\n",
       "    </tr>\n",
       "    <tr>\n",
       "      <th>5753</th>\n",
       "      <td>12/4/24</td>\n",
       "      <td>11:49 PM</td>\n",
       "      <td>Poooor</td>\n",
       "      <td>Hm</td>\n",
       "    </tr>\n",
       "  </tbody>\n",
       "</table>\n",
       "<p>5754 rows × 4 columns</p>\n",
       "</div>"
      ],
      "text/plain": [
       "         Date        Time                Name  \\\n",
       "0     12/7/16   11:46 PM               Poooor   \n",
       "1     12/7/16   11:46 PM               Poooor   \n",
       "2     12/7/16   11:47 PM    Priya Manikandan😘   \n",
       "3     12/7/16   11:47 PM               Poooor   \n",
       "4     12/7/16   11:48 PM    Priya Manikandan😘   \n",
       "...       ...         ...                 ...   \n",
       "5749  12/4/24   10:00 PM               Poooor   \n",
       "5750  12/4/24   10:00 PM               Poooor   \n",
       "5751  12/4/24   10:00 PM               Poooor   \n",
       "5752  12/4/24   10:18 PM    Priya Manikandan😘   \n",
       "5753  12/4/24   11:49 PM               Poooor   \n",
       "\n",
       "                                                Message  \n",
       "0                                                Hello!  \n",
       "1                                       <Media omitted>  \n",
       "2                                             Who's dis  \n",
       "3                                              👌🏻👌🏻👌🏻👌🏻  \n",
       "4                   Lost all my contacts few weeks back  \n",
       "...                                                 ...  \n",
       "5749                          My Mind is only with appa  \n",
       "5750                                Pack panave thonala  \n",
       "5751   What to speak with him how to console him nu ...  \n",
       "5752   Ne porardhe avarku oru periya mind changer ah...  \n",
       "5753                                                 Hm  \n",
       "\n",
       "[5754 rows x 4 columns]"
      ]
     },
     "execution_count": 10,
     "metadata": {},
     "output_type": "execute_result"
    }
   ],
   "source": [
    "data"
   ]
  },
  {
   "cell_type": "markdown",
   "id": "e2f9f38b-a706-41d3-9b27-e99a3a994a62",
   "metadata": {},
   "source": [
    "### Remove Emojis"
   ]
  },
  {
   "cell_type": "code",
   "execution_count": 11,
   "id": "0cc4d82d-e26a-4e27-8b33-edbd3df6cf0d",
   "metadata": {
    "scrolled": true
   },
   "outputs": [],
   "source": [
    "# pip install emoji"
   ]
  },
  {
   "cell_type": "code",
   "execution_count": 12,
   "id": "eccb9388-76fd-4a8e-95cc-4c1a2ecdef61",
   "metadata": {},
   "outputs": [],
   "source": [
    "df = data"
   ]
  },
  {
   "cell_type": "code",
   "execution_count": 13,
   "id": "0794cd8b-7d8d-40ec-8b6d-1b22f97aa3ae",
   "metadata": {},
   "outputs": [],
   "source": [
    "# Function to remove emojis and unwanted Unicode characters\n",
    "import re\n",
    "def clean_text(text):\n",
    "    if not isinstance(text, str):  # Check if the value is not a string\n",
    "        return ''  # Return an empty string \n",
    "    # Remove emojis (pattern covers most emojis)\n",
    "    emoji_pattern = re.compile(\n",
    "        \"[\"\n",
    "        \"\\U0001F600-\\U0001F64F\"  # Emoticons\n",
    "        \"\\U0001F300-\\U0001F5FF\"  # Symbols & pictographs\n",
    "        \"\\U0001F680-\\U0001F6FF\"  # Transport & map symbols\n",
    "        \"\\U0001F1E0-\\U0001F1FF\"  # Flags (iOS)\n",
    "        \"\\U00002702-\\U000027B0\"  # Dingbats\n",
    "        \"\\U000024C2-\\U0001F251\"  # Enclosed characters\n",
    "        \"]+\", flags=re.UNICODE\n",
    "    )\n",
    "    \n",
    "    # Remove unwanted Unicode characters (non-ASCII)\n",
    "    text = emoji_pattern.sub(r'', text)  # Remove emojis\n",
    "    text = re.sub(r'[^\\x00-\\x7F]+!@', '', text)  # Remove non-ASCII characters\n",
    "    \n",
    "    return text.strip()"
   ]
  },
  {
   "cell_type": "code",
   "execution_count": 14,
   "id": "aacf38b2-7fd8-4876-a6de-f5a3f909633b",
   "metadata": {},
   "outputs": [
    {
     "data": {
      "text/html": [
       "<div>\n",
       "<style scoped>\n",
       "    .dataframe tbody tr th:only-of-type {\n",
       "        vertical-align: middle;\n",
       "    }\n",
       "\n",
       "    .dataframe tbody tr th {\n",
       "        vertical-align: top;\n",
       "    }\n",
       "\n",
       "    .dataframe thead th {\n",
       "        text-align: right;\n",
       "    }\n",
       "</style>\n",
       "<table border=\"1\" class=\"dataframe\">\n",
       "  <thead>\n",
       "    <tr style=\"text-align: right;\">\n",
       "      <th></th>\n",
       "      <th>Date</th>\n",
       "      <th>Time</th>\n",
       "      <th>Name</th>\n",
       "      <th>Message</th>\n",
       "      <th>cleaned_messages</th>\n",
       "    </tr>\n",
       "  </thead>\n",
       "  <tbody>\n",
       "    <tr>\n",
       "      <th>0</th>\n",
       "      <td>12/7/16</td>\n",
       "      <td>11:46 PM</td>\n",
       "      <td>Poooor</td>\n",
       "      <td>Hello!</td>\n",
       "      <td>Hello!</td>\n",
       "    </tr>\n",
       "    <tr>\n",
       "      <th>1</th>\n",
       "      <td>12/7/16</td>\n",
       "      <td>11:46 PM</td>\n",
       "      <td>Poooor</td>\n",
       "      <td>&lt;Media omitted&gt;</td>\n",
       "      <td>&lt;Media omitted&gt;</td>\n",
       "    </tr>\n",
       "    <tr>\n",
       "      <th>2</th>\n",
       "      <td>12/7/16</td>\n",
       "      <td>11:47 PM</td>\n",
       "      <td>Priya Manikandan😘</td>\n",
       "      <td>Who's dis</td>\n",
       "      <td>Who's dis</td>\n",
       "    </tr>\n",
       "    <tr>\n",
       "      <th>3</th>\n",
       "      <td>12/7/16</td>\n",
       "      <td>11:47 PM</td>\n",
       "      <td>Poooor</td>\n",
       "      <td>👌🏻👌🏻👌🏻👌🏻</td>\n",
       "      <td></td>\n",
       "    </tr>\n",
       "    <tr>\n",
       "      <th>4</th>\n",
       "      <td>12/7/16</td>\n",
       "      <td>11:48 PM</td>\n",
       "      <td>Priya Manikandan😘</td>\n",
       "      <td>Lost all my contacts few weeks back</td>\n",
       "      <td>Lost all my contacts few weeks back</td>\n",
       "    </tr>\n",
       "    <tr>\n",
       "      <th>...</th>\n",
       "      <td>...</td>\n",
       "      <td>...</td>\n",
       "      <td>...</td>\n",
       "      <td>...</td>\n",
       "      <td>...</td>\n",
       "    </tr>\n",
       "    <tr>\n",
       "      <th>5749</th>\n",
       "      <td>12/4/24</td>\n",
       "      <td>10:00 PM</td>\n",
       "      <td>Poooor</td>\n",
       "      <td>My Mind is only with appa</td>\n",
       "      <td>My Mind is only with appa</td>\n",
       "    </tr>\n",
       "    <tr>\n",
       "      <th>5750</th>\n",
       "      <td>12/4/24</td>\n",
       "      <td>10:00 PM</td>\n",
       "      <td>Poooor</td>\n",
       "      <td>Pack panave thonala</td>\n",
       "      <td>Pack panave thonala</td>\n",
       "    </tr>\n",
       "    <tr>\n",
       "      <th>5751</th>\n",
       "      <td>12/4/24</td>\n",
       "      <td>10:00 PM</td>\n",
       "      <td>Poooor</td>\n",
       "      <td>What to speak with him how to console him nu ...</td>\n",
       "      <td>What to speak with him how to console him nu y...</td>\n",
       "    </tr>\n",
       "    <tr>\n",
       "      <th>5752</th>\n",
       "      <td>12/4/24</td>\n",
       "      <td>10:18 PM</td>\n",
       "      <td>Priya Manikandan😘</td>\n",
       "      <td>Ne porardhe avarku oru periya mind changer ah...</td>\n",
       "      <td>Ne porardhe avarku oru periya mind changer ah ...</td>\n",
       "    </tr>\n",
       "    <tr>\n",
       "      <th>5753</th>\n",
       "      <td>12/4/24</td>\n",
       "      <td>11:49 PM</td>\n",
       "      <td>Poooor</td>\n",
       "      <td>Hm</td>\n",
       "      <td>Hm</td>\n",
       "    </tr>\n",
       "  </tbody>\n",
       "</table>\n",
       "<p>5754 rows × 5 columns</p>\n",
       "</div>"
      ],
      "text/plain": [
       "         Date        Time                Name  \\\n",
       "0     12/7/16   11:46 PM               Poooor   \n",
       "1     12/7/16   11:46 PM               Poooor   \n",
       "2     12/7/16   11:47 PM    Priya Manikandan😘   \n",
       "3     12/7/16   11:47 PM               Poooor   \n",
       "4     12/7/16   11:48 PM    Priya Manikandan😘   \n",
       "...       ...         ...                 ...   \n",
       "5749  12/4/24   10:00 PM               Poooor   \n",
       "5750  12/4/24   10:00 PM               Poooor   \n",
       "5751  12/4/24   10:00 PM               Poooor   \n",
       "5752  12/4/24   10:18 PM    Priya Manikandan😘   \n",
       "5753  12/4/24   11:49 PM               Poooor   \n",
       "\n",
       "                                                Message  \\\n",
       "0                                                Hello!   \n",
       "1                                       <Media omitted>   \n",
       "2                                             Who's dis   \n",
       "3                                              👌🏻👌🏻👌🏻👌🏻   \n",
       "4                   Lost all my contacts few weeks back   \n",
       "...                                                 ...   \n",
       "5749                          My Mind is only with appa   \n",
       "5750                                Pack panave thonala   \n",
       "5751   What to speak with him how to console him nu ...   \n",
       "5752   Ne porardhe avarku oru periya mind changer ah...   \n",
       "5753                                                 Hm   \n",
       "\n",
       "                                       cleaned_messages  \n",
       "0                                                Hello!  \n",
       "1                                       <Media omitted>  \n",
       "2                                             Who's dis  \n",
       "3                                                        \n",
       "4                   Lost all my contacts few weeks back  \n",
       "...                                                 ...  \n",
       "5749                          My Mind is only with appa  \n",
       "5750                                Pack panave thonala  \n",
       "5751  What to speak with him how to console him nu y...  \n",
       "5752  Ne porardhe avarku oru periya mind changer ah ...  \n",
       "5753                                                 Hm  \n",
       "\n",
       "[5754 rows x 5 columns]"
      ]
     },
     "execution_count": 14,
     "metadata": {},
     "output_type": "execute_result"
    }
   ],
   "source": [
    "# Apply the function to the 'messages' column\n",
    "df['cleaned_messages'] = df['Message'].apply(clean_text)\n",
    "df"
   ]
  },
  {
   "cell_type": "code",
   "execution_count": 15,
   "id": "881360e5-e3d6-4d0b-871c-8c75efa20b79",
   "metadata": {},
   "outputs": [],
   "source": [
    "df.drop('Message',axis=1,inplace=True)"
   ]
  },
  {
   "cell_type": "code",
   "execution_count": 16,
   "id": "7a7f69dd-e8ab-4c12-a612-58d262fdc9b3",
   "metadata": {},
   "outputs": [
    {
     "data": {
      "text/html": [
       "<div>\n",
       "<style scoped>\n",
       "    .dataframe tbody tr th:only-of-type {\n",
       "        vertical-align: middle;\n",
       "    }\n",
       "\n",
       "    .dataframe tbody tr th {\n",
       "        vertical-align: top;\n",
       "    }\n",
       "\n",
       "    .dataframe thead th {\n",
       "        text-align: right;\n",
       "    }\n",
       "</style>\n",
       "<table border=\"1\" class=\"dataframe\">\n",
       "  <thead>\n",
       "    <tr style=\"text-align: right;\">\n",
       "      <th></th>\n",
       "      <th>Date</th>\n",
       "      <th>Time</th>\n",
       "      <th>Name</th>\n",
       "      <th>cleaned_messages</th>\n",
       "    </tr>\n",
       "  </thead>\n",
       "  <tbody>\n",
       "    <tr>\n",
       "      <th>0</th>\n",
       "      <td>12/7/16</td>\n",
       "      <td>11:46 PM</td>\n",
       "      <td>Poooor</td>\n",
       "      <td>Hello!</td>\n",
       "    </tr>\n",
       "    <tr>\n",
       "      <th>1</th>\n",
       "      <td>12/7/16</td>\n",
       "      <td>11:46 PM</td>\n",
       "      <td>Poooor</td>\n",
       "      <td>&lt;Media omitted&gt;</td>\n",
       "    </tr>\n",
       "    <tr>\n",
       "      <th>2</th>\n",
       "      <td>12/7/16</td>\n",
       "      <td>11:47 PM</td>\n",
       "      <td>Priya Manikandan😘</td>\n",
       "      <td>Who's dis</td>\n",
       "    </tr>\n",
       "    <tr>\n",
       "      <th>3</th>\n",
       "      <td>12/7/16</td>\n",
       "      <td>11:47 PM</td>\n",
       "      <td>Poooor</td>\n",
       "      <td></td>\n",
       "    </tr>\n",
       "    <tr>\n",
       "      <th>4</th>\n",
       "      <td>12/7/16</td>\n",
       "      <td>11:48 PM</td>\n",
       "      <td>Priya Manikandan😘</td>\n",
       "      <td>Lost all my contacts few weeks back</td>\n",
       "    </tr>\n",
       "    <tr>\n",
       "      <th>...</th>\n",
       "      <td>...</td>\n",
       "      <td>...</td>\n",
       "      <td>...</td>\n",
       "      <td>...</td>\n",
       "    </tr>\n",
       "    <tr>\n",
       "      <th>5749</th>\n",
       "      <td>12/4/24</td>\n",
       "      <td>10:00 PM</td>\n",
       "      <td>Poooor</td>\n",
       "      <td>My Mind is only with appa</td>\n",
       "    </tr>\n",
       "    <tr>\n",
       "      <th>5750</th>\n",
       "      <td>12/4/24</td>\n",
       "      <td>10:00 PM</td>\n",
       "      <td>Poooor</td>\n",
       "      <td>Pack panave thonala</td>\n",
       "    </tr>\n",
       "    <tr>\n",
       "      <th>5751</th>\n",
       "      <td>12/4/24</td>\n",
       "      <td>10:00 PM</td>\n",
       "      <td>Poooor</td>\n",
       "      <td>What to speak with him how to console him nu y...</td>\n",
       "    </tr>\n",
       "    <tr>\n",
       "      <th>5752</th>\n",
       "      <td>12/4/24</td>\n",
       "      <td>10:18 PM</td>\n",
       "      <td>Priya Manikandan😘</td>\n",
       "      <td>Ne porardhe avarku oru periya mind changer ah ...</td>\n",
       "    </tr>\n",
       "    <tr>\n",
       "      <th>5753</th>\n",
       "      <td>12/4/24</td>\n",
       "      <td>11:49 PM</td>\n",
       "      <td>Poooor</td>\n",
       "      <td>Hm</td>\n",
       "    </tr>\n",
       "  </tbody>\n",
       "</table>\n",
       "<p>5754 rows × 4 columns</p>\n",
       "</div>"
      ],
      "text/plain": [
       "         Date        Time                Name  \\\n",
       "0     12/7/16   11:46 PM               Poooor   \n",
       "1     12/7/16   11:46 PM               Poooor   \n",
       "2     12/7/16   11:47 PM    Priya Manikandan😘   \n",
       "3     12/7/16   11:47 PM               Poooor   \n",
       "4     12/7/16   11:48 PM    Priya Manikandan😘   \n",
       "...       ...         ...                 ...   \n",
       "5749  12/4/24   10:00 PM               Poooor   \n",
       "5750  12/4/24   10:00 PM               Poooor   \n",
       "5751  12/4/24   10:00 PM               Poooor   \n",
       "5752  12/4/24   10:18 PM    Priya Manikandan😘   \n",
       "5753  12/4/24   11:49 PM               Poooor   \n",
       "\n",
       "                                       cleaned_messages  \n",
       "0                                                Hello!  \n",
       "1                                       <Media omitted>  \n",
       "2                                             Who's dis  \n",
       "3                                                        \n",
       "4                   Lost all my contacts few weeks back  \n",
       "...                                                 ...  \n",
       "5749                          My Mind is only with appa  \n",
       "5750                                Pack panave thonala  \n",
       "5751  What to speak with him how to console him nu y...  \n",
       "5752  Ne porardhe avarku oru periya mind changer ah ...  \n",
       "5753                                                 Hm  \n",
       "\n",
       "[5754 rows x 4 columns]"
      ]
     },
     "execution_count": 16,
     "metadata": {},
     "output_type": "execute_result"
    }
   ],
   "source": [
    "df"
   ]
  },
  {
   "cell_type": "code",
   "execution_count": 17,
   "id": "e2b1e2e5-95cb-4502-ae2f-5cc2065fc4ec",
   "metadata": {},
   "outputs": [],
   "source": [
    "df.dropna(inplace=True)"
   ]
  },
  {
   "cell_type": "code",
   "execution_count": 18,
   "id": "44284a78-e07c-4115-9761-da1ecbb58fed",
   "metadata": {},
   "outputs": [
    {
     "data": {
      "text/html": [
       "<div>\n",
       "<style scoped>\n",
       "    .dataframe tbody tr th:only-of-type {\n",
       "        vertical-align: middle;\n",
       "    }\n",
       "\n",
       "    .dataframe tbody tr th {\n",
       "        vertical-align: top;\n",
       "    }\n",
       "\n",
       "    .dataframe thead th {\n",
       "        text-align: right;\n",
       "    }\n",
       "</style>\n",
       "<table border=\"1\" class=\"dataframe\">\n",
       "  <thead>\n",
       "    <tr style=\"text-align: right;\">\n",
       "      <th></th>\n",
       "      <th>Date</th>\n",
       "      <th>Time</th>\n",
       "      <th>Name</th>\n",
       "      <th>cleaned_messages</th>\n",
       "    </tr>\n",
       "  </thead>\n",
       "  <tbody>\n",
       "    <tr>\n",
       "      <th>0</th>\n",
       "      <td>12/7/16</td>\n",
       "      <td>11:46 PM</td>\n",
       "      <td>Poooor</td>\n",
       "      <td>Hello!</td>\n",
       "    </tr>\n",
       "    <tr>\n",
       "      <th>1</th>\n",
       "      <td>12/7/16</td>\n",
       "      <td>11:46 PM</td>\n",
       "      <td>Poooor</td>\n",
       "      <td>&lt;Media omitted&gt;</td>\n",
       "    </tr>\n",
       "    <tr>\n",
       "      <th>2</th>\n",
       "      <td>12/7/16</td>\n",
       "      <td>11:47 PM</td>\n",
       "      <td>Priya Manikandan😘</td>\n",
       "      <td>Who's dis</td>\n",
       "    </tr>\n",
       "    <tr>\n",
       "      <th>3</th>\n",
       "      <td>12/7/16</td>\n",
       "      <td>11:47 PM</td>\n",
       "      <td>Poooor</td>\n",
       "      <td></td>\n",
       "    </tr>\n",
       "    <tr>\n",
       "      <th>4</th>\n",
       "      <td>12/7/16</td>\n",
       "      <td>11:48 PM</td>\n",
       "      <td>Priya Manikandan😘</td>\n",
       "      <td>Lost all my contacts few weeks back</td>\n",
       "    </tr>\n",
       "    <tr>\n",
       "      <th>...</th>\n",
       "      <td>...</td>\n",
       "      <td>...</td>\n",
       "      <td>...</td>\n",
       "      <td>...</td>\n",
       "    </tr>\n",
       "    <tr>\n",
       "      <th>5749</th>\n",
       "      <td>12/4/24</td>\n",
       "      <td>10:00 PM</td>\n",
       "      <td>Poooor</td>\n",
       "      <td>My Mind is only with appa</td>\n",
       "    </tr>\n",
       "    <tr>\n",
       "      <th>5750</th>\n",
       "      <td>12/4/24</td>\n",
       "      <td>10:00 PM</td>\n",
       "      <td>Poooor</td>\n",
       "      <td>Pack panave thonala</td>\n",
       "    </tr>\n",
       "    <tr>\n",
       "      <th>5751</th>\n",
       "      <td>12/4/24</td>\n",
       "      <td>10:00 PM</td>\n",
       "      <td>Poooor</td>\n",
       "      <td>What to speak with him how to console him nu y...</td>\n",
       "    </tr>\n",
       "    <tr>\n",
       "      <th>5752</th>\n",
       "      <td>12/4/24</td>\n",
       "      <td>10:18 PM</td>\n",
       "      <td>Priya Manikandan😘</td>\n",
       "      <td>Ne porardhe avarku oru periya mind changer ah ...</td>\n",
       "    </tr>\n",
       "    <tr>\n",
       "      <th>5753</th>\n",
       "      <td>12/4/24</td>\n",
       "      <td>11:49 PM</td>\n",
       "      <td>Poooor</td>\n",
       "      <td>Hm</td>\n",
       "    </tr>\n",
       "  </tbody>\n",
       "</table>\n",
       "<p>5487 rows × 4 columns</p>\n",
       "</div>"
      ],
      "text/plain": [
       "         Date        Time                Name  \\\n",
       "0     12/7/16   11:46 PM               Poooor   \n",
       "1     12/7/16   11:46 PM               Poooor   \n",
       "2     12/7/16   11:47 PM    Priya Manikandan😘   \n",
       "3     12/7/16   11:47 PM               Poooor   \n",
       "4     12/7/16   11:48 PM    Priya Manikandan😘   \n",
       "...       ...         ...                 ...   \n",
       "5749  12/4/24   10:00 PM               Poooor   \n",
       "5750  12/4/24   10:00 PM               Poooor   \n",
       "5751  12/4/24   10:00 PM               Poooor   \n",
       "5752  12/4/24   10:18 PM    Priya Manikandan😘   \n",
       "5753  12/4/24   11:49 PM               Poooor   \n",
       "\n",
       "                                       cleaned_messages  \n",
       "0                                                Hello!  \n",
       "1                                       <Media omitted>  \n",
       "2                                             Who's dis  \n",
       "3                                                        \n",
       "4                   Lost all my contacts few weeks back  \n",
       "...                                                 ...  \n",
       "5749                          My Mind is only with appa  \n",
       "5750                                Pack panave thonala  \n",
       "5751  What to speak with him how to console him nu y...  \n",
       "5752  Ne porardhe avarku oru periya mind changer ah ...  \n",
       "5753                                                 Hm  \n",
       "\n",
       "[5487 rows x 4 columns]"
      ]
     },
     "execution_count": 18,
     "metadata": {},
     "output_type": "execute_result"
    }
   ],
   "source": [
    "df"
   ]
  },
  {
   "cell_type": "markdown",
   "id": "93297a8a-ed14-4528-886c-4bfea0f0ac0a",
   "metadata": {},
   "source": [
    "## Sentiment Analysis"
   ]
  },
  {
   "cell_type": "markdown",
   "id": "6a6122a9-7aab-4413-ab61-bf38998d43d0",
   "metadata": {},
   "source": [
    "### Identifing Message Type - Flirt / Non Flirt"
   ]
  },
  {
   "cell_type": "code",
   "execution_count": null,
   "id": "4d83cf86-e774-4bd8-9908-5d20cbad0ea0",
   "metadata": {},
   "outputs": [],
   "source": []
  },
  {
   "cell_type": "code",
   "execution_count": 19,
   "id": "6511e702-f89b-4b86-b1a8-9d25990a6f51",
   "metadata": {},
   "outputs": [],
   "source": [
    "def SentimentalAnalysis(data,columnname):\n",
    "    from nltk.sentiment.vader import SentimentIntensityAnalyzer\n",
    "    sia = SentimentIntensityAnalyzer()\n",
    "    \n",
    "    df['Scores'] = df[columnname].apply(lambda message: sia.polarity_scores(message))\n",
    "    df['Compound'] = df['Scores'].apply(lambda pol_score: pol_score['compound'])\n",
    "    df['Positive'] = df['Scores'].apply(lambda pol_score : pol_score['pos'])\n",
    "    df['Negative'] = df['Scores'].apply(lambda pol_score: pol_score['neg'])\n",
    "    df['Neutral'] = df['Scores'].apply(lambda pol_score: pol_score['neu'])\n",
    "    \n",
    "    df['MessageType'] = df['Compound'].apply(lambda fb: 'Flirt' if fb>0.5 else 'Non-Flirt')\n",
    "    \n",
    "    Message_type = df['MessageType'].value_counts()\n",
    "    \n",
    "    return data,Message_type"
   ]
  },
  {
   "cell_type": "code",
   "execution_count": 20,
   "id": "2ff00c47-678b-4819-95ba-a6aeaed71711",
   "metadata": {},
   "outputs": [],
   "source": [
    "data,Message_type = SentimentalAnalysis(df,columnname = 'cleaned_messages')"
   ]
  },
  {
   "cell_type": "code",
   "execution_count": 21,
   "id": "17f7dae6-eed2-4b8d-9eca-34cda30dc7bd",
   "metadata": {},
   "outputs": [
    {
     "data": {
      "text/html": [
       "<div>\n",
       "<style scoped>\n",
       "    .dataframe tbody tr th:only-of-type {\n",
       "        vertical-align: middle;\n",
       "    }\n",
       "\n",
       "    .dataframe tbody tr th {\n",
       "        vertical-align: top;\n",
       "    }\n",
       "\n",
       "    .dataframe thead th {\n",
       "        text-align: right;\n",
       "    }\n",
       "</style>\n",
       "<table border=\"1\" class=\"dataframe\">\n",
       "  <thead>\n",
       "    <tr style=\"text-align: right;\">\n",
       "      <th></th>\n",
       "      <th>Date</th>\n",
       "      <th>Time</th>\n",
       "      <th>Name</th>\n",
       "      <th>cleaned_messages</th>\n",
       "      <th>Scores</th>\n",
       "      <th>Compound</th>\n",
       "      <th>Positive</th>\n",
       "      <th>Negative</th>\n",
       "      <th>Neutral</th>\n",
       "      <th>MessageType</th>\n",
       "    </tr>\n",
       "  </thead>\n",
       "  <tbody>\n",
       "    <tr>\n",
       "      <th>0</th>\n",
       "      <td>12/7/16</td>\n",
       "      <td>11:46 PM</td>\n",
       "      <td>Poooor</td>\n",
       "      <td>Hello!</td>\n",
       "      <td>{'neg': 0.0, 'neu': 1.0, 'pos': 0.0, 'compound...</td>\n",
       "      <td>0.0000</td>\n",
       "      <td>0.000</td>\n",
       "      <td>0.000</td>\n",
       "      <td>1.000</td>\n",
       "      <td>Non-Flirt</td>\n",
       "    </tr>\n",
       "    <tr>\n",
       "      <th>1</th>\n",
       "      <td>12/7/16</td>\n",
       "      <td>11:46 PM</td>\n",
       "      <td>Poooor</td>\n",
       "      <td>&lt;Media omitted&gt;</td>\n",
       "      <td>{'neg': 0.0, 'neu': 1.0, 'pos': 0.0, 'compound...</td>\n",
       "      <td>0.0000</td>\n",
       "      <td>0.000</td>\n",
       "      <td>0.000</td>\n",
       "      <td>1.000</td>\n",
       "      <td>Non-Flirt</td>\n",
       "    </tr>\n",
       "    <tr>\n",
       "      <th>2</th>\n",
       "      <td>12/7/16</td>\n",
       "      <td>11:47 PM</td>\n",
       "      <td>Priya Manikandan😘</td>\n",
       "      <td>Who's dis</td>\n",
       "      <td>{'neg': 0.0, 'neu': 1.0, 'pos': 0.0, 'compound...</td>\n",
       "      <td>0.0000</td>\n",
       "      <td>0.000</td>\n",
       "      <td>0.000</td>\n",
       "      <td>1.000</td>\n",
       "      <td>Non-Flirt</td>\n",
       "    </tr>\n",
       "    <tr>\n",
       "      <th>3</th>\n",
       "      <td>12/7/16</td>\n",
       "      <td>11:47 PM</td>\n",
       "      <td>Poooor</td>\n",
       "      <td></td>\n",
       "      <td>{'neg': 0.0, 'neu': 0.0, 'pos': 0.0, 'compound...</td>\n",
       "      <td>0.0000</td>\n",
       "      <td>0.000</td>\n",
       "      <td>0.000</td>\n",
       "      <td>0.000</td>\n",
       "      <td>Non-Flirt</td>\n",
       "    </tr>\n",
       "    <tr>\n",
       "      <th>4</th>\n",
       "      <td>12/7/16</td>\n",
       "      <td>11:48 PM</td>\n",
       "      <td>Priya Manikandan😘</td>\n",
       "      <td>Lost all my contacts few weeks back</td>\n",
       "      <td>{'neg': 0.277, 'neu': 0.723, 'pos': 0.0, 'comp...</td>\n",
       "      <td>-0.3182</td>\n",
       "      <td>0.000</td>\n",
       "      <td>0.277</td>\n",
       "      <td>0.723</td>\n",
       "      <td>Non-Flirt</td>\n",
       "    </tr>\n",
       "    <tr>\n",
       "      <th>...</th>\n",
       "      <td>...</td>\n",
       "      <td>...</td>\n",
       "      <td>...</td>\n",
       "      <td>...</td>\n",
       "      <td>...</td>\n",
       "      <td>...</td>\n",
       "      <td>...</td>\n",
       "      <td>...</td>\n",
       "      <td>...</td>\n",
       "      <td>...</td>\n",
       "    </tr>\n",
       "    <tr>\n",
       "      <th>5749</th>\n",
       "      <td>12/4/24</td>\n",
       "      <td>10:00 PM</td>\n",
       "      <td>Poooor</td>\n",
       "      <td>My Mind is only with appa</td>\n",
       "      <td>{'neg': 0.0, 'neu': 1.0, 'pos': 0.0, 'compound...</td>\n",
       "      <td>0.0000</td>\n",
       "      <td>0.000</td>\n",
       "      <td>0.000</td>\n",
       "      <td>1.000</td>\n",
       "      <td>Non-Flirt</td>\n",
       "    </tr>\n",
       "    <tr>\n",
       "      <th>5750</th>\n",
       "      <td>12/4/24</td>\n",
       "      <td>10:00 PM</td>\n",
       "      <td>Poooor</td>\n",
       "      <td>Pack panave thonala</td>\n",
       "      <td>{'neg': 0.0, 'neu': 1.0, 'pos': 0.0, 'compound...</td>\n",
       "      <td>0.0000</td>\n",
       "      <td>0.000</td>\n",
       "      <td>0.000</td>\n",
       "      <td>1.000</td>\n",
       "      <td>Non-Flirt</td>\n",
       "    </tr>\n",
       "    <tr>\n",
       "      <th>5751</th>\n",
       "      <td>12/4/24</td>\n",
       "      <td>10:00 PM</td>\n",
       "      <td>Poooor</td>\n",
       "      <td>What to speak with him how to console him nu y...</td>\n",
       "      <td>{'neg': 0.0, 'neu': 1.0, 'pos': 0.0, 'compound...</td>\n",
       "      <td>0.0000</td>\n",
       "      <td>0.000</td>\n",
       "      <td>0.000</td>\n",
       "      <td>1.000</td>\n",
       "      <td>Non-Flirt</td>\n",
       "    </tr>\n",
       "    <tr>\n",
       "      <th>5752</th>\n",
       "      <td>12/4/24</td>\n",
       "      <td>10:18 PM</td>\n",
       "      <td>Priya Manikandan😘</td>\n",
       "      <td>Ne porardhe avarku oru periya mind changer ah ...</td>\n",
       "      <td>{'neg': 0.0, 'neu': 0.731, 'pos': 0.269, 'comp...</td>\n",
       "      <td>0.7096</td>\n",
       "      <td>0.269</td>\n",
       "      <td>0.000</td>\n",
       "      <td>0.731</td>\n",
       "      <td>Flirt</td>\n",
       "    </tr>\n",
       "    <tr>\n",
       "      <th>5753</th>\n",
       "      <td>12/4/24</td>\n",
       "      <td>11:49 PM</td>\n",
       "      <td>Poooor</td>\n",
       "      <td>Hm</td>\n",
       "      <td>{'neg': 0.0, 'neu': 1.0, 'pos': 0.0, 'compound...</td>\n",
       "      <td>0.0000</td>\n",
       "      <td>0.000</td>\n",
       "      <td>0.000</td>\n",
       "      <td>1.000</td>\n",
       "      <td>Non-Flirt</td>\n",
       "    </tr>\n",
       "  </tbody>\n",
       "</table>\n",
       "<p>5487 rows × 10 columns</p>\n",
       "</div>"
      ],
      "text/plain": [
       "         Date        Time                Name  \\\n",
       "0     12/7/16   11:46 PM               Poooor   \n",
       "1     12/7/16   11:46 PM               Poooor   \n",
       "2     12/7/16   11:47 PM    Priya Manikandan😘   \n",
       "3     12/7/16   11:47 PM               Poooor   \n",
       "4     12/7/16   11:48 PM    Priya Manikandan😘   \n",
       "...       ...         ...                 ...   \n",
       "5749  12/4/24   10:00 PM               Poooor   \n",
       "5750  12/4/24   10:00 PM               Poooor   \n",
       "5751  12/4/24   10:00 PM               Poooor   \n",
       "5752  12/4/24   10:18 PM    Priya Manikandan😘   \n",
       "5753  12/4/24   11:49 PM               Poooor   \n",
       "\n",
       "                                       cleaned_messages  \\\n",
       "0                                                Hello!   \n",
       "1                                       <Media omitted>   \n",
       "2                                             Who's dis   \n",
       "3                                                         \n",
       "4                   Lost all my contacts few weeks back   \n",
       "...                                                 ...   \n",
       "5749                          My Mind is only with appa   \n",
       "5750                                Pack panave thonala   \n",
       "5751  What to speak with him how to console him nu y...   \n",
       "5752  Ne porardhe avarku oru periya mind changer ah ...   \n",
       "5753                                                 Hm   \n",
       "\n",
       "                                                 Scores  Compound  Positive  \\\n",
       "0     {'neg': 0.0, 'neu': 1.0, 'pos': 0.0, 'compound...    0.0000     0.000   \n",
       "1     {'neg': 0.0, 'neu': 1.0, 'pos': 0.0, 'compound...    0.0000     0.000   \n",
       "2     {'neg': 0.0, 'neu': 1.0, 'pos': 0.0, 'compound...    0.0000     0.000   \n",
       "3     {'neg': 0.0, 'neu': 0.0, 'pos': 0.0, 'compound...    0.0000     0.000   \n",
       "4     {'neg': 0.277, 'neu': 0.723, 'pos': 0.0, 'comp...   -0.3182     0.000   \n",
       "...                                                 ...       ...       ...   \n",
       "5749  {'neg': 0.0, 'neu': 1.0, 'pos': 0.0, 'compound...    0.0000     0.000   \n",
       "5750  {'neg': 0.0, 'neu': 1.0, 'pos': 0.0, 'compound...    0.0000     0.000   \n",
       "5751  {'neg': 0.0, 'neu': 1.0, 'pos': 0.0, 'compound...    0.0000     0.000   \n",
       "5752  {'neg': 0.0, 'neu': 0.731, 'pos': 0.269, 'comp...    0.7096     0.269   \n",
       "5753  {'neg': 0.0, 'neu': 1.0, 'pos': 0.0, 'compound...    0.0000     0.000   \n",
       "\n",
       "      Negative  Neutral MessageType  \n",
       "0        0.000    1.000   Non-Flirt  \n",
       "1        0.000    1.000   Non-Flirt  \n",
       "2        0.000    1.000   Non-Flirt  \n",
       "3        0.000    0.000   Non-Flirt  \n",
       "4        0.277    0.723   Non-Flirt  \n",
       "...        ...      ...         ...  \n",
       "5749     0.000    1.000   Non-Flirt  \n",
       "5750     0.000    1.000   Non-Flirt  \n",
       "5751     0.000    1.000   Non-Flirt  \n",
       "5752     0.000    0.731       Flirt  \n",
       "5753     0.000    1.000   Non-Flirt  \n",
       "\n",
       "[5487 rows x 10 columns]"
      ]
     },
     "execution_count": 21,
     "metadata": {},
     "output_type": "execute_result"
    }
   ],
   "source": [
    "df"
   ]
  },
  {
   "cell_type": "markdown",
   "id": "ac35d5a5-3b8d-4d99-99f3-15c27e2bb066",
   "metadata": {},
   "source": [
    "### Seperating the feature & Label for model selection"
   ]
  },
  {
   "cell_type": "code",
   "execution_count": 22,
   "id": "c44bd6d4-f9c6-4a0a-b59e-ea9179a62635",
   "metadata": {},
   "outputs": [
    {
     "data": {
      "text/html": [
       "<div>\n",
       "<style scoped>\n",
       "    .dataframe tbody tr th:only-of-type {\n",
       "        vertical-align: middle;\n",
       "    }\n",
       "\n",
       "    .dataframe tbody tr th {\n",
       "        vertical-align: top;\n",
       "    }\n",
       "\n",
       "    .dataframe thead th {\n",
       "        text-align: right;\n",
       "    }\n",
       "</style>\n",
       "<table border=\"1\" class=\"dataframe\">\n",
       "  <thead>\n",
       "    <tr style=\"text-align: right;\">\n",
       "      <th></th>\n",
       "      <th>cleaned_messages</th>\n",
       "      <th>MessageType</th>\n",
       "    </tr>\n",
       "  </thead>\n",
       "  <tbody>\n",
       "    <tr>\n",
       "      <th>0</th>\n",
       "      <td>Hello!</td>\n",
       "      <td>Non-Flirt</td>\n",
       "    </tr>\n",
       "    <tr>\n",
       "      <th>1</th>\n",
       "      <td>&lt;Media omitted&gt;</td>\n",
       "      <td>Non-Flirt</td>\n",
       "    </tr>\n",
       "    <tr>\n",
       "      <th>2</th>\n",
       "      <td>Who's dis</td>\n",
       "      <td>Non-Flirt</td>\n",
       "    </tr>\n",
       "    <tr>\n",
       "      <th>3</th>\n",
       "      <td></td>\n",
       "      <td>Non-Flirt</td>\n",
       "    </tr>\n",
       "    <tr>\n",
       "      <th>4</th>\n",
       "      <td>Lost all my contacts few weeks back</td>\n",
       "      <td>Non-Flirt</td>\n",
       "    </tr>\n",
       "    <tr>\n",
       "      <th>...</th>\n",
       "      <td>...</td>\n",
       "      <td>...</td>\n",
       "    </tr>\n",
       "    <tr>\n",
       "      <th>5749</th>\n",
       "      <td>My Mind is only with appa</td>\n",
       "      <td>Non-Flirt</td>\n",
       "    </tr>\n",
       "    <tr>\n",
       "      <th>5750</th>\n",
       "      <td>Pack panave thonala</td>\n",
       "      <td>Non-Flirt</td>\n",
       "    </tr>\n",
       "    <tr>\n",
       "      <th>5751</th>\n",
       "      <td>What to speak with him how to console him nu y...</td>\n",
       "      <td>Non-Flirt</td>\n",
       "    </tr>\n",
       "    <tr>\n",
       "      <th>5752</th>\n",
       "      <td>Ne porardhe avarku oru periya mind changer ah ...</td>\n",
       "      <td>Flirt</td>\n",
       "    </tr>\n",
       "    <tr>\n",
       "      <th>5753</th>\n",
       "      <td>Hm</td>\n",
       "      <td>Non-Flirt</td>\n",
       "    </tr>\n",
       "  </tbody>\n",
       "</table>\n",
       "<p>5487 rows × 2 columns</p>\n",
       "</div>"
      ],
      "text/plain": [
       "                                       cleaned_messages MessageType\n",
       "0                                                Hello!   Non-Flirt\n",
       "1                                       <Media omitted>   Non-Flirt\n",
       "2                                             Who's dis   Non-Flirt\n",
       "3                                                         Non-Flirt\n",
       "4                   Lost all my contacts few weeks back   Non-Flirt\n",
       "...                                                 ...         ...\n",
       "5749                          My Mind is only with appa   Non-Flirt\n",
       "5750                                Pack panave thonala   Non-Flirt\n",
       "5751  What to speak with him how to console him nu y...   Non-Flirt\n",
       "5752  Ne porardhe avarku oru periya mind changer ah ...       Flirt\n",
       "5753                                                 Hm   Non-Flirt\n",
       "\n",
       "[5487 rows x 2 columns]"
      ]
     },
     "execution_count": 22,
     "metadata": {},
     "output_type": "execute_result"
    }
   ],
   "source": [
    "dataset = df[['cleaned_messages','MessageType']]\n",
    "dataset"
   ]
  },
  {
   "cell_type": "code",
   "execution_count": 23,
   "id": "b4034579-c648-4b3c-9043-bb50c196233c",
   "metadata": {},
   "outputs": [],
   "source": [
    "dataset.to_csv('FlirtPredictiondata.csv',index=False)"
   ]
  },
  {
   "cell_type": "code",
   "execution_count": 24,
   "id": "d92cf839-e18c-4100-82ed-657c9e9f317b",
   "metadata": {},
   "outputs": [
    {
     "data": {
      "text/html": [
       "<div>\n",
       "<style scoped>\n",
       "    .dataframe tbody tr th:only-of-type {\n",
       "        vertical-align: middle;\n",
       "    }\n",
       "\n",
       "    .dataframe tbody tr th {\n",
       "        vertical-align: top;\n",
       "    }\n",
       "\n",
       "    .dataframe thead th {\n",
       "        text-align: right;\n",
       "    }\n",
       "</style>\n",
       "<table border=\"1\" class=\"dataframe\">\n",
       "  <thead>\n",
       "    <tr style=\"text-align: right;\">\n",
       "      <th></th>\n",
       "      <th>cleaned_messages</th>\n",
       "      <th>MessageType</th>\n",
       "    </tr>\n",
       "  </thead>\n",
       "  <tbody>\n",
       "    <tr>\n",
       "      <th>0</th>\n",
       "      <td>Hello!</td>\n",
       "      <td>Non-Flirt</td>\n",
       "    </tr>\n",
       "    <tr>\n",
       "      <th>1</th>\n",
       "      <td>&lt;Media omitted&gt;</td>\n",
       "      <td>Non-Flirt</td>\n",
       "    </tr>\n",
       "    <tr>\n",
       "      <th>2</th>\n",
       "      <td>Who's dis</td>\n",
       "      <td>Non-Flirt</td>\n",
       "    </tr>\n",
       "    <tr>\n",
       "      <th>3</th>\n",
       "      <td>NaN</td>\n",
       "      <td>Non-Flirt</td>\n",
       "    </tr>\n",
       "    <tr>\n",
       "      <th>4</th>\n",
       "      <td>Lost all my contacts few weeks back</td>\n",
       "      <td>Non-Flirt</td>\n",
       "    </tr>\n",
       "    <tr>\n",
       "      <th>...</th>\n",
       "      <td>...</td>\n",
       "      <td>...</td>\n",
       "    </tr>\n",
       "    <tr>\n",
       "      <th>5482</th>\n",
       "      <td>My Mind is only with appa</td>\n",
       "      <td>Non-Flirt</td>\n",
       "    </tr>\n",
       "    <tr>\n",
       "      <th>5483</th>\n",
       "      <td>Pack panave thonala</td>\n",
       "      <td>Non-Flirt</td>\n",
       "    </tr>\n",
       "    <tr>\n",
       "      <th>5484</th>\n",
       "      <td>What to speak with him how to console him nu y...</td>\n",
       "      <td>Non-Flirt</td>\n",
       "    </tr>\n",
       "    <tr>\n",
       "      <th>5485</th>\n",
       "      <td>Ne porardhe avarku oru periya mind changer ah ...</td>\n",
       "      <td>Flirt</td>\n",
       "    </tr>\n",
       "    <tr>\n",
       "      <th>5486</th>\n",
       "      <td>Hm</td>\n",
       "      <td>Non-Flirt</td>\n",
       "    </tr>\n",
       "  </tbody>\n",
       "</table>\n",
       "<p>5487 rows × 2 columns</p>\n",
       "</div>"
      ],
      "text/plain": [
       "                                       cleaned_messages MessageType\n",
       "0                                                Hello!   Non-Flirt\n",
       "1                                       <Media omitted>   Non-Flirt\n",
       "2                                             Who's dis   Non-Flirt\n",
       "3                                                   NaN   Non-Flirt\n",
       "4                   Lost all my contacts few weeks back   Non-Flirt\n",
       "...                                                 ...         ...\n",
       "5482                          My Mind is only with appa   Non-Flirt\n",
       "5483                                Pack panave thonala   Non-Flirt\n",
       "5484  What to speak with him how to console him nu y...   Non-Flirt\n",
       "5485  Ne porardhe avarku oru periya mind changer ah ...       Flirt\n",
       "5486                                                 Hm   Non-Flirt\n",
       "\n",
       "[5487 rows x 2 columns]"
      ]
     },
     "execution_count": 24,
     "metadata": {},
     "output_type": "execute_result"
    }
   ],
   "source": [
    "dataset = pd.read_csv('FlirtPredictiondata.csv',index_col=False)\n",
    "dataset"
   ]
  },
  {
   "cell_type": "code",
   "execution_count": 25,
   "id": "1d9f9a19-8e98-4261-a44c-499bd266185e",
   "metadata": {},
   "outputs": [
    {
     "data": {
      "text/plain": [
       "(5487, 2)"
      ]
     },
     "execution_count": 25,
     "metadata": {},
     "output_type": "execute_result"
    }
   ],
   "source": [
    "dataset.shape"
   ]
  },
  {
   "cell_type": "code",
   "execution_count": 26,
   "id": "6539b8d5-2c12-42a5-92b3-76bd85c2382d",
   "metadata": {},
   "outputs": [
    {
     "data": {
      "text/html": [
       "<div>\n",
       "<style scoped>\n",
       "    .dataframe tbody tr th:only-of-type {\n",
       "        vertical-align: middle;\n",
       "    }\n",
       "\n",
       "    .dataframe tbody tr th {\n",
       "        vertical-align: top;\n",
       "    }\n",
       "\n",
       "    .dataframe thead th {\n",
       "        text-align: right;\n",
       "    }\n",
       "</style>\n",
       "<table border=\"1\" class=\"dataframe\">\n",
       "  <thead>\n",
       "    <tr style=\"text-align: right;\">\n",
       "      <th></th>\n",
       "      <th>cleaned_messages</th>\n",
       "      <th>MessageType</th>\n",
       "    </tr>\n",
       "  </thead>\n",
       "  <tbody>\n",
       "    <tr>\n",
       "      <th>0</th>\n",
       "      <td>Hello!</td>\n",
       "      <td>Non-Flirt</td>\n",
       "    </tr>\n",
       "    <tr>\n",
       "      <th>1</th>\n",
       "      <td>&lt;Media omitted&gt;</td>\n",
       "      <td>Non-Flirt</td>\n",
       "    </tr>\n",
       "    <tr>\n",
       "      <th>2</th>\n",
       "      <td>Who's dis</td>\n",
       "      <td>Non-Flirt</td>\n",
       "    </tr>\n",
       "    <tr>\n",
       "      <th>4</th>\n",
       "      <td>Lost all my contacts few weeks back</td>\n",
       "      <td>Non-Flirt</td>\n",
       "    </tr>\n",
       "    <tr>\n",
       "      <th>5</th>\n",
       "      <td>Yur name ?</td>\n",
       "      <td>Non-Flirt</td>\n",
       "    </tr>\n",
       "    <tr>\n",
       "      <th>...</th>\n",
       "      <td>...</td>\n",
       "      <td>...</td>\n",
       "    </tr>\n",
       "    <tr>\n",
       "      <th>5482</th>\n",
       "      <td>My Mind is only with appa</td>\n",
       "      <td>Non-Flirt</td>\n",
       "    </tr>\n",
       "    <tr>\n",
       "      <th>5483</th>\n",
       "      <td>Pack panave thonala</td>\n",
       "      <td>Non-Flirt</td>\n",
       "    </tr>\n",
       "    <tr>\n",
       "      <th>5484</th>\n",
       "      <td>What to speak with him how to console him nu y...</td>\n",
       "      <td>Non-Flirt</td>\n",
       "    </tr>\n",
       "    <tr>\n",
       "      <th>5485</th>\n",
       "      <td>Ne porardhe avarku oru periya mind changer ah ...</td>\n",
       "      <td>Flirt</td>\n",
       "    </tr>\n",
       "    <tr>\n",
       "      <th>5486</th>\n",
       "      <td>Hm</td>\n",
       "      <td>Non-Flirt</td>\n",
       "    </tr>\n",
       "  </tbody>\n",
       "</table>\n",
       "<p>5218 rows × 2 columns</p>\n",
       "</div>"
      ],
      "text/plain": [
       "                                       cleaned_messages MessageType\n",
       "0                                                Hello!   Non-Flirt\n",
       "1                                       <Media omitted>   Non-Flirt\n",
       "2                                             Who's dis   Non-Flirt\n",
       "4                   Lost all my contacts few weeks back   Non-Flirt\n",
       "5                                            Yur name ?   Non-Flirt\n",
       "...                                                 ...         ...\n",
       "5482                          My Mind is only with appa   Non-Flirt\n",
       "5483                                Pack panave thonala   Non-Flirt\n",
       "5484  What to speak with him how to console him nu y...   Non-Flirt\n",
       "5485  Ne porardhe avarku oru periya mind changer ah ...       Flirt\n",
       "5486                                                 Hm   Non-Flirt\n",
       "\n",
       "[5218 rows x 2 columns]"
      ]
     },
     "execution_count": 26,
     "metadata": {},
     "output_type": "execute_result"
    }
   ],
   "source": [
    "dataset.dropna()"
   ]
  },
  {
   "cell_type": "code",
   "execution_count": 27,
   "id": "86d475f6-d56c-4d1a-a3f1-029f3c8cb5dd",
   "metadata": {},
   "outputs": [
    {
     "data": {
      "text/plain": [
       "cleaned_messages    269\n",
       "MessageType           0\n",
       "dtype: int64"
      ]
     },
     "execution_count": 27,
     "metadata": {},
     "output_type": "execute_result"
    }
   ],
   "source": [
    "dataset.isnull().sum()"
   ]
  },
  {
   "cell_type": "code",
   "execution_count": 28,
   "id": "87d761b8-356f-4fed-bc32-0c25894b5a5d",
   "metadata": {},
   "outputs": [],
   "source": [
    "dataset= dataset.fillna('')"
   ]
  },
  {
   "cell_type": "code",
   "execution_count": 29,
   "id": "a89135d5-aff5-490e-a18e-05a46cdeb71b",
   "metadata": {},
   "outputs": [
    {
     "data": {
      "text/plain": [
       "cleaned_messages    0\n",
       "MessageType         0\n",
       "dtype: int64"
      ]
     },
     "execution_count": 29,
     "metadata": {},
     "output_type": "execute_result"
    }
   ],
   "source": [
    "dataset.isnull().sum()"
   ]
  },
  {
   "cell_type": "code",
   "execution_count": 30,
   "id": "a343ba12-c7b9-42e8-a9b0-9a42006277ce",
   "metadata": {},
   "outputs": [
    {
     "data": {
      "text/plain": [
       "(5487, 2)"
      ]
     },
     "execution_count": 30,
     "metadata": {},
     "output_type": "execute_result"
    }
   ],
   "source": [
    "dataset.shape"
   ]
  },
  {
   "cell_type": "code",
   "execution_count": 31,
   "id": "160debfd-bba5-4e94-9dab-deee0a040f90",
   "metadata": {},
   "outputs": [],
   "source": [
    "indep_x = dataset['cleaned_messages']\n",
    "dep_y = dataset['MessageType']"
   ]
  },
  {
   "cell_type": "code",
   "execution_count": 32,
   "id": "c302ce9d-8c76-4bb7-b30f-96e0a2fa765d",
   "metadata": {},
   "outputs": [],
   "source": [
    "x_train,x_test,y_train,y_test = train_test_split(indep_x,dep_y,test_size = 0.20,random_state=42)"
   ]
  },
  {
   "cell_type": "markdown",
   "id": "fa96265a-3970-4983-844e-f86113f757d2",
   "metadata": {},
   "source": [
    "## Model Creation "
   ]
  },
  {
   "cell_type": "markdown",
   "id": "47457f1f-4bb0-4e31-b33c-7bc87832cc1c",
   "metadata": {},
   "source": [
    "## Counter Vector with Classification Algorithms"
   ]
  },
  {
   "cell_type": "code",
   "execution_count": 33,
   "id": "49e07e62-8d00-47de-910a-bdcd5a454156",
   "metadata": {},
   "outputs": [],
   "source": [
    "countV = CountVectorizer(stop_words='english')\n",
    "vectors_train = countV.fit_transform(x_train)\n",
    "vectors_test = countV.transform(x_test)"
   ]
  },
  {
   "cell_type": "code",
   "execution_count": 34,
   "id": "7d3e55e7-c33f-43b4-9606-550d67973ae2",
   "metadata": {},
   "outputs": [
    {
     "data": {
      "text/plain": [
       "(4389, 4291)"
      ]
     },
     "execution_count": 34,
     "metadata": {},
     "output_type": "execute_result"
    }
   ],
   "source": [
    "vectors_train.shape"
   ]
  },
  {
   "cell_type": "code",
   "execution_count": 35,
   "id": "9d7d279f-0b88-48cc-a055-47c6cbbe6a98",
   "metadata": {},
   "outputs": [
    {
     "data": {
      "text/plain": [
       "(1098, 4291)"
      ]
     },
     "execution_count": 35,
     "metadata": {},
     "output_type": "execute_result"
    }
   ],
   "source": [
    "vectors_test.shape"
   ]
  },
  {
   "cell_type": "code",
   "execution_count": 36,
   "id": "792f9bf1-5740-4ff6-851d-cea6c989e90b",
   "metadata": {
    "scrolled": true
   },
   "outputs": [
    {
     "name": "stdout",
     "output_type": "stream",
     "text": [
      "  (0, 217)\t1\n",
      "  (0, 833)\t1\n",
      "  (0, 1022)\t1\n",
      "  (0, 3089)\t1\n",
      "  (0, 2635)\t1\n",
      "  (0, 1120)\t1\n",
      "  (0, 1487)\t1\n",
      "  (0, 2423)\t1\n",
      "  (0, 1461)\t1\n",
      "  (1, 3486)\t1\n",
      "  (1, 3188)\t1\n",
      "  (2, 246)\t1\n",
      "  (3, 2262)\t1\n",
      "  (3, 3140)\t1\n",
      "  (3, 2775)\t1\n",
      "  (3, 2962)\t1\n",
      "  (3, 1585)\t1\n",
      "  (3, 740)\t1\n",
      "  (3, 1489)\t1\n",
      "  (3, 2948)\t1\n",
      "  (4, 3486)\t1\n",
      "  (4, 3188)\t1\n",
      "  (4, 4137)\t1\n",
      "  (4, 2297)\t1\n",
      "  (5, 1086)\t1\n",
      "  :\t:\n",
      "  (4375, 2957)\t1\n",
      "  (4376, 3763)\t1\n",
      "  (4376, 2398)\t1\n",
      "  (4377, 833)\t1\n",
      "  (4377, 544)\t1\n",
      "  (4378, 1803)\t1\n",
      "  (4378, 1438)\t1\n",
      "  (4378, 2687)\t1\n",
      "  (4379, 660)\t1\n",
      "  (4379, 2548)\t1\n",
      "  (4379, 1725)\t1\n",
      "  (4379, 4196)\t1\n",
      "  (4379, 3326)\t1\n",
      "  (4380, 3284)\t1\n",
      "  (4380, 2406)\t1\n",
      "  (4381, 4151)\t1\n",
      "  (4382, 2322)\t1\n",
      "  (4382, 2305)\t1\n",
      "  (4382, 1787)\t1\n",
      "  (4383, 1284)\t1\n",
      "  (4384, 824)\t1\n",
      "  (4385, 1318)\t1\n",
      "  (4387, 2075)\t1\n",
      "  (4387, 2419)\t1\n",
      "  (4388, 155)\t1\n"
     ]
    }
   ],
   "source": [
    "print(vectors_train)"
   ]
  },
  {
   "cell_type": "code",
   "execution_count": 37,
   "id": "b12cfa75-2058-4e3a-8f33-9e9ee0a1b1f2",
   "metadata": {
    "scrolled": true
   },
   "outputs": [
    {
     "name": "stdout",
     "output_type": "stream",
     "text": [
      "  (0, 796)\t1\n",
      "  (0, 1580)\t1\n",
      "  (0, 1897)\t1\n",
      "  (0, 2855)\t1\n",
      "  (0, 2942)\t1\n",
      "  (1, 198)\t1\n",
      "  (3, 2406)\t2\n",
      "  (4, 2199)\t1\n",
      "  (4, 2494)\t1\n",
      "  (4, 2668)\t1\n",
      "  (4, 3278)\t1\n",
      "  (5, 2075)\t1\n",
      "  (5, 2419)\t1\n",
      "  (6, 1)\t1\n",
      "  (6, 271)\t2\n",
      "  (6, 803)\t1\n",
      "  (6, 1803)\t1\n",
      "  (6, 4003)\t1\n",
      "  (6, 4224)\t1\n",
      "  (7, 4242)\t1\n",
      "  (8, 102)\t1\n",
      "  (8, 122)\t1\n",
      "  (9, 2245)\t1\n",
      "  (9, 3906)\t1\n",
      "  (9, 4043)\t1\n",
      "  :\t:\n",
      "  (1089, 1489)\t1\n",
      "  (1089, 2916)\t1\n",
      "  (1089, 3791)\t1\n",
      "  (1090, 187)\t1\n",
      "  (1090, 802)\t1\n",
      "  (1090, 854)\t1\n",
      "  (1090, 2199)\t1\n",
      "  (1090, 3251)\t1\n",
      "  (1091, 2199)\t1\n",
      "  (1091, 2234)\t1\n",
      "  (1091, 3140)\t1\n",
      "  (1091, 3782)\t1\n",
      "  (1092, 2299)\t1\n",
      "  (1092, 2784)\t1\n",
      "  (1092, 3168)\t1\n",
      "  (1092, 4079)\t1\n",
      "  (1093, 271)\t1\n",
      "  (1093, 1281)\t1\n",
      "  (1093, 2821)\t1\n",
      "  (1093, 2953)\t1\n",
      "  (1094, 1242)\t2\n",
      "  (1095, 4240)\t1\n",
      "  (1096, 710)\t1\n",
      "  (1096, 2082)\t1\n",
      "  (1096, 3229)\t1\n"
     ]
    }
   ],
   "source": [
    "print(vectors_test)"
   ]
  },
  {
   "cell_type": "markdown",
   "id": "a173bd33-c1f5-4522-9240-f56bea1663e1",
   "metadata": {},
   "source": [
    "### Logistic Regression"
   ]
  },
  {
   "cell_type": "code",
   "execution_count": 38,
   "id": "6e2fc434-6b6d-418c-aa08-c3b950786393",
   "metadata": {},
   "outputs": [
    {
     "data": {
      "text/plain": [
       "0.9699453551912568"
      ]
     },
     "execution_count": 38,
     "metadata": {},
     "output_type": "execute_result"
    }
   ],
   "source": [
    "classifier = LogisticRegression()\n",
    "classifier.fit(vectors_train,y_train)\n",
    "y_pred = classifier.predict(vectors_test)\n",
    "accuracy = accuracy_score(y_test,y_pred)\n",
    "accuracy"
   ]
  },
  {
   "cell_type": "markdown",
   "id": "c9ab6e34-7b79-45c8-b328-70220c6e7a1c",
   "metadata": {},
   "source": [
    "### KNN"
   ]
  },
  {
   "cell_type": "code",
   "execution_count": 39,
   "id": "d1714706-2d1b-49a2-87bc-4c2fef0f11bb",
   "metadata": {},
   "outputs": [
    {
     "data": {
      "text/plain": [
       "0.9581056466302368"
      ]
     },
     "execution_count": 39,
     "metadata": {},
     "output_type": "execute_result"
    }
   ],
   "source": [
    "classifier = KNeighborsClassifier()\n",
    "classifier.fit(vectors_train,y_train)\n",
    "y_pred = classifier.predict(vectors_test)\n",
    "accuracy = accuracy_score(y_test,y_pred)\n",
    "accuracy"
   ]
  },
  {
   "cell_type": "markdown",
   "id": "5a48fe41-e6e4-45b4-9518-ac240c005a6c",
   "metadata": {},
   "source": [
    "### Multinomial"
   ]
  },
  {
   "cell_type": "code",
   "execution_count": 40,
   "id": "95eb151d-8c31-4ea4-8713-f1d2d2ee5e53",
   "metadata": {},
   "outputs": [
    {
     "data": {
      "text/plain": [
       "0.9508196721311475"
      ]
     },
     "execution_count": 40,
     "metadata": {},
     "output_type": "execute_result"
    }
   ],
   "source": [
    "classifier = MultinomialNB()\n",
    "classifier.fit(vectors_train,y_train)\n",
    "y_pred = classifier.predict(vectors_test)\n",
    "accuracy = accuracy_score(y_test,y_pred)\n",
    "accuracy"
   ]
  },
  {
   "cell_type": "markdown",
   "id": "146fa502-8116-47fe-9e55-2bc279762c66",
   "metadata": {},
   "source": [
    "### SVM"
   ]
  },
  {
   "cell_type": "code",
   "execution_count": 41,
   "id": "bdb0790a-ff16-4072-8be9-7bce65a029ce",
   "metadata": {},
   "outputs": [
    {
     "data": {
      "text/plain": [
       "0.9681238615664846"
      ]
     },
     "execution_count": 41,
     "metadata": {},
     "output_type": "execute_result"
    }
   ],
   "source": [
    "classifier = SVC()\n",
    "classifier.fit(vectors_train,y_train)\n",
    "y_pred = classifier.predict(vectors_test)\n",
    "accuracy = accuracy_score(y_test,y_pred)\n",
    "accuracy"
   ]
  },
  {
   "cell_type": "markdown",
   "id": "27a9d541-0d8b-4842-bb5c-2a0d01756c6c",
   "metadata": {},
   "source": [
    "### Decision Tree"
   ]
  },
  {
   "cell_type": "code",
   "execution_count": 42,
   "id": "6ab7dc65-0320-476d-8a3b-5302f7001a3b",
   "metadata": {},
   "outputs": [
    {
     "data": {
      "text/plain": [
       "0.9817850637522769"
      ]
     },
     "execution_count": 42,
     "metadata": {},
     "output_type": "execute_result"
    }
   ],
   "source": [
    "classifier = DecisionTreeClassifier()\n",
    "classifier.fit(vectors_train,y_train)\n",
    "y_pred = classifier.predict(vectors_test)\n",
    "accuracy = accuracy_score(y_test,y_pred)\n",
    "accuracy"
   ]
  },
  {
   "cell_type": "markdown",
   "id": "caef1524-f8ed-4b70-b36b-3ad39813ab56",
   "metadata": {},
   "source": [
    "### Random Forest"
   ]
  },
  {
   "cell_type": "code",
   "execution_count": 43,
   "id": "6ccfd77c-0ded-4784-af28-52991a39f455",
   "metadata": {},
   "outputs": [
    {
     "data": {
      "text/plain": [
       "0.9772313296903461"
      ]
     },
     "execution_count": 43,
     "metadata": {},
     "output_type": "execute_result"
    }
   ],
   "source": [
    "classifier = RandomForestClassifier()\n",
    "classifier.fit(vectors_train,y_train)\n",
    "y_pred = classifier.predict(vectors_test)\n",
    "accuracy = accuracy_score(y_test,y_pred)\n",
    "accuracy"
   ]
  },
  {
   "cell_type": "markdown",
   "id": "411e389e-32ef-4fc9-9a3b-610d31234713",
   "metadata": {},
   "source": [
    "### Passive Aggressive"
   ]
  },
  {
   "cell_type": "code",
   "execution_count": 44,
   "id": "146e35c9-1f37-4ff9-b0f7-22ed9d68149f",
   "metadata": {},
   "outputs": [
    {
     "data": {
      "text/plain": [
       "0.970856102003643"
      ]
     },
     "execution_count": 44,
     "metadata": {},
     "output_type": "execute_result"
    }
   ],
   "source": [
    "classifier = PassiveAggressiveClassifier()\n",
    "classifier.fit(vectors_train,y_train)\n",
    "y_pred = classifier.predict(vectors_test)\n",
    "accuracy = accuracy_score(y_test,y_pred)\n",
    "accuracy"
   ]
  },
  {
   "cell_type": "markdown",
   "id": "ca58c4dc-b8e7-4110-8d8d-ff460f352586",
   "metadata": {},
   "source": [
    "## In CountVector & Classification Algorithms --> 'Decision Tree Classifier' performs with maximum Accuracy = 98%"
   ]
  },
  {
   "cell_type": "markdown",
   "id": "e3253ccd-54aa-4008-8562-f79459f0003a",
   "metadata": {},
   "source": [
    "### In Function --> CountVector & Classification Combinations"
   ]
  },
  {
   "cell_type": "code",
   "execution_count": 45,
   "id": "efe46099-9f89-44fe-bcb0-8b4d19a47a50",
   "metadata": {},
   "outputs": [],
   "source": [
    "model_dict = { 'logistic' : LogisticRegression(),\n",
    "               'knn' : KNeighborsClassifier(),\n",
    "               'MultinomialNB' : MultinomialNB(),\n",
    "               'svm' : SVC(),\n",
    "               'DecisionTree'  : DecisionTreeClassifier(),\n",
    "               'RandomForest'  : RandomForestClassifier(),\n",
    "               'PassiveAggressive' : PassiveAggressiveClassifier()\n",
    "             }\n",
    "results ={}\n",
    "\n",
    "def Model_Creation(model,vectors_train,y_train,vectors_test,y_test):\n",
    "    for name, model in model.items():\n",
    "        model.fit(vectors_train,y_train)\n",
    "        y_pred = classifier.predict(vectors_test)\n",
    "        accuracy = accuracy_score(y_test,y_pred)\n",
    "        results[name] = accuracy\n",
    "        print(f'{name}: Accuracy =  {accuracy:.2f}')\n",
    "    return results"
   ]
  },
  {
   "cell_type": "code",
   "execution_count": 46,
   "id": "71a002ce-ab18-4b66-98ed-4e4655b0fca0",
   "metadata": {},
   "outputs": [
    {
     "name": "stdout",
     "output_type": "stream",
     "text": [
      "logistic: Accuracy =  0.97\n",
      "knn: Accuracy =  0.97\n",
      "MultinomialNB: Accuracy =  0.97\n",
      "svm: Accuracy =  0.97\n",
      "DecisionTree: Accuracy =  0.97\n",
      "RandomForest: Accuracy =  0.97\n",
      "PassiveAggressive: Accuracy =  0.97\n"
     ]
    }
   ],
   "source": [
    "results = Model_Creation(model_dict,vectors_train,y_train,vectors_test,y_test)"
   ]
  },
  {
   "cell_type": "markdown",
   "id": "e3cfc877-b44a-4baa-9b13-e74523603510",
   "metadata": {},
   "source": [
    "## TF-IDF Vector with Classification Algorithms"
   ]
  },
  {
   "cell_type": "code",
   "execution_count": 47,
   "id": "c67848d3-fd60-4cd5-aea2-e4a87f0f992f",
   "metadata": {},
   "outputs": [],
   "source": [
    "tfidf = TfidfVectorizer(stop_words='english')\n",
    "vectors_train = tfidf.fit_transform(x_train)\n",
    "vectors_test = tfidf.transform(x_test)"
   ]
  },
  {
   "cell_type": "markdown",
   "id": "99ce860e-e4fc-445b-ba86-7c0fed2857e4",
   "metadata": {},
   "source": [
    "### Logistic Regression"
   ]
  },
  {
   "cell_type": "code",
   "execution_count": 48,
   "id": "a772c97b-273c-4cbc-9f99-51303469a358",
   "metadata": {},
   "outputs": [
    {
     "data": {
      "text/plain": [
       "0.9489981785063752"
      ]
     },
     "execution_count": 48,
     "metadata": {},
     "output_type": "execute_result"
    }
   ],
   "source": [
    "classifier = LogisticRegression()\n",
    "classifier.fit(vectors_train,y_train)\n",
    "y_pred = classifier.predict(vectors_test)\n",
    "accuracy = accuracy_score(y_test,y_pred)\n",
    "accuracy"
   ]
  },
  {
   "cell_type": "markdown",
   "id": "ff7b133d-bb21-4b86-8221-d12168bc892f",
   "metadata": {},
   "source": [
    "### KNN"
   ]
  },
  {
   "cell_type": "code",
   "execution_count": 49,
   "id": "996cc7ee-3791-4071-8cb8-0f15fbc6e46a",
   "metadata": {},
   "outputs": [
    {
     "data": {
      "text/plain": [
       "0.9553734061930783"
      ]
     },
     "execution_count": 49,
     "metadata": {},
     "output_type": "execute_result"
    }
   ],
   "source": [
    "classifier = KNeighborsClassifier()\n",
    "classifier.fit(vectors_train,y_train)\n",
    "y_pred = classifier.predict(vectors_test)\n",
    "accuracy = accuracy_score(y_test,y_pred)\n",
    "accuracy"
   ]
  },
  {
   "cell_type": "markdown",
   "id": "c0eb32f3-9749-4fd9-ab99-6e402a5c9c17",
   "metadata": {},
   "source": [
    "### Multinomial"
   ]
  },
  {
   "cell_type": "code",
   "execution_count": 50,
   "id": "5665b8fc-1fd1-45f3-b501-b4c8f86c4dbe",
   "metadata": {},
   "outputs": [
    {
     "data": {
      "text/plain": [
       "0.9398907103825137"
      ]
     },
     "execution_count": 50,
     "metadata": {},
     "output_type": "execute_result"
    }
   ],
   "source": [
    "classifier = MultinomialNB()\n",
    "classifier.fit(vectors_train,y_train)\n",
    "y_pred = classifier.predict(vectors_test)\n",
    "accuracy = accuracy_score(y_test,y_pred)\n",
    "accuracy"
   ]
  },
  {
   "cell_type": "markdown",
   "id": "9955f1c4-1b50-4b0d-8c2d-7914fa97e2c5",
   "metadata": {},
   "source": [
    "### SVM"
   ]
  },
  {
   "cell_type": "code",
   "execution_count": 51,
   "id": "647441ba-7185-4529-badd-bcd9872e631e",
   "metadata": {},
   "outputs": [
    {
     "data": {
      "text/plain": [
       "0.9608378870673953"
      ]
     },
     "execution_count": 51,
     "metadata": {},
     "output_type": "execute_result"
    }
   ],
   "source": [
    "classifier = SVC()\n",
    "classifier.fit(vectors_train,y_train)\n",
    "y_pred = classifier.predict(vectors_test)\n",
    "accuracy = accuracy_score(y_test,y_pred)\n",
    "accuracy"
   ]
  },
  {
   "cell_type": "markdown",
   "id": "3f32ea35-1409-4732-8371-6d4e969d2250",
   "metadata": {},
   "source": [
    "### Decision Tree"
   ]
  },
  {
   "cell_type": "code",
   "execution_count": 52,
   "id": "a0a41c65-4290-4a48-9bf2-d899d07200ad",
   "metadata": {},
   "outputs": [
    {
     "data": {
      "text/plain": [
       "0.9690346083788707"
      ]
     },
     "execution_count": 52,
     "metadata": {},
     "output_type": "execute_result"
    }
   ],
   "source": [
    "classifier = DecisionTreeClassifier()\n",
    "classifier.fit(vectors_train,y_train)\n",
    "y_pred = classifier.predict(vectors_test)\n",
    "accuracy = accuracy_score(y_test,y_pred)\n",
    "accuracy"
   ]
  },
  {
   "cell_type": "markdown",
   "id": "e0e1189e-2235-47b2-a9db-27e27c332ed3",
   "metadata": {},
   "source": [
    "### Random Forest"
   ]
  },
  {
   "cell_type": "code",
   "execution_count": 53,
   "id": "3e0a7d82-7958-4421-bdaa-09a8c5007ccc",
   "metadata": {},
   "outputs": [
    {
     "data": {
      "text/plain": [
       "0.9681238615664846"
      ]
     },
     "execution_count": 53,
     "metadata": {},
     "output_type": "execute_result"
    }
   ],
   "source": [
    "classifier = RandomForestClassifier()\n",
    "classifier.fit(vectors_train,y_train)\n",
    "y_pred = classifier.predict(vectors_test)\n",
    "accuracy = accuracy_score(y_test,y_pred)\n",
    "accuracy"
   ]
  },
  {
   "cell_type": "markdown",
   "id": "8bffc11a-01e4-4f43-8caf-6ca2b222109d",
   "metadata": {},
   "source": [
    "### Passive Aggressive"
   ]
  },
  {
   "cell_type": "code",
   "execution_count": 54,
   "id": "a4160c6c-a0c3-41c2-a29c-9ff38207dfab",
   "metadata": {},
   "outputs": [
    {
     "data": {
      "text/plain": [
       "0.9644808743169399"
      ]
     },
     "execution_count": 54,
     "metadata": {},
     "output_type": "execute_result"
    }
   ],
   "source": [
    "classifier = PassiveAggressiveClassifier()\n",
    "classifier.fit(vectors_train,y_train)\n",
    "y_pred = classifier.predict(vectors_test)\n",
    "accuracy = accuracy_score(y_test,y_pred)\n",
    "accuracy"
   ]
  },
  {
   "cell_type": "markdown",
   "id": "0a370feb-467c-450d-b82a-90bb6fd81d04",
   "metadata": {},
   "source": [
    "## In TF-IDF Vector & Classification Algorithms -->  ' Almost all ' performs well with maximum Accuracy = 96%"
   ]
  },
  {
   "cell_type": "markdown",
   "id": "06893421-6b0e-4dc2-ac00-138831d72524",
   "metadata": {},
   "source": [
    "## Final Model\n",
    "## CountVector & Classification Algorithms --> 'Decision Tree Classifier' with 97% of Accuracy"
   ]
  },
  {
   "cell_type": "markdown",
   "id": "da5ad3d4-24d7-49b8-aeb7-ebacbf3c24b6",
   "metadata": {},
   "source": [
    "### In Function --> TF IDF Vector & Classification Combinations"
   ]
  },
  {
   "cell_type": "code",
   "execution_count": 55,
   "id": "972bac90-81d3-418a-acf3-0611732e8cb3",
   "metadata": {},
   "outputs": [],
   "source": [
    "model_dict = { 'logistic' : LogisticRegression(),\n",
    "               'knn' : KNeighborsClassifier(),\n",
    "               'MultinomialNB' : MultinomialNB(),\n",
    "               'svm' : SVC(),\n",
    "               'DecisionTree'  : DecisionTreeClassifier(),\n",
    "               'RandomForest'  : RandomForestClassifier(),\n",
    "               'PassiveAggressive' : PassiveAggressiveClassifier()\n",
    "             }\n",
    "results ={}\n",
    "\n",
    "def Model_Creation(model,vectors_train,y_train,vectors_test,y_test):\n",
    "    for name, model in model.items():\n",
    "        model.fit(vectors_train,y_train)\n",
    "        y_pred = classifier.predict(vectors_test)\n",
    "        accuracy = accuracy_score(y_test,y_pred)\n",
    "        results[name] = accuracy\n",
    "        print(f'{name}: Accuracy =  {accuracy:.2f}')\n",
    "    return results"
   ]
  },
  {
   "cell_type": "code",
   "execution_count": 56,
   "id": "f91ba396-e151-49fd-bcd5-dc785816fcec",
   "metadata": {},
   "outputs": [
    {
     "name": "stdout",
     "output_type": "stream",
     "text": [
      "logistic: Accuracy =  0.96\n",
      "knn: Accuracy =  0.96\n",
      "MultinomialNB: Accuracy =  0.96\n",
      "svm: Accuracy =  0.96\n",
      "DecisionTree: Accuracy =  0.96\n",
      "RandomForest: Accuracy =  0.96\n",
      "PassiveAggressive: Accuracy =  0.96\n"
     ]
    }
   ],
   "source": [
    "results = Model_Creation(model_dict,vectors_train,y_train,vectors_test,y_test)"
   ]
  },
  {
   "cell_type": "markdown",
   "id": "35920bff-ae0c-4241-b52f-60a3c4f93567",
   "metadata": {},
   "source": [
    "### Flirt & Non Flirt Messages count"
   ]
  },
  {
   "cell_type": "code",
   "execution_count": 57,
   "id": "187275d1-e1a5-4763-9051-35e05e1de919",
   "metadata": {},
   "outputs": [
    {
     "data": {
      "text/plain": [
       "MessageType\n",
       "Non-Flirt    5194\n",
       "Flirt         293\n",
       "Name: count, dtype: int64"
      ]
     },
     "execution_count": 57,
     "metadata": {},
     "output_type": "execute_result"
    }
   ],
   "source": [
    "Message_type"
   ]
  },
  {
   "cell_type": "markdown",
   "id": "ddcf17ce-dbb9-4019-a7ef-680073b7b339",
   "metadata": {},
   "source": [
    "### Talkative & Less Talkative"
   ]
  },
  {
   "cell_type": "code",
   "execution_count": 58,
   "id": "0b9412f1-a89f-41d3-9d29-8857d7d712f7",
   "metadata": {},
   "outputs": [],
   "source": [
    "Most_Talkative = df['Name'].value_counts().max()\n",
    "Most_Talkative_name = df['Name'].value_counts().idxmax()\n",
    "Less_Talkative = df['Name'].value_counts().min()\n",
    "Less_Talkative_name = df['Name'].value_counts().idxmin()"
   ]
  },
  {
   "cell_type": "code",
   "execution_count": 59,
   "id": "e13ffdfb-855d-4490-987a-6ed761a02260",
   "metadata": {},
   "outputs": [
    {
     "name": "stdout",
     "output_type": "stream",
     "text": [
      " Poooor\n"
     ]
    },
    {
     "data": {
      "text/plain": [
       "2912"
      ]
     },
     "execution_count": 59,
     "metadata": {},
     "output_type": "execute_result"
    }
   ],
   "source": [
    "print(Most_Talkative_name)\n",
    "Most_Talkative"
   ]
  },
  {
   "cell_type": "code",
   "execution_count": 60,
   "id": "40137190-b316-4f49-bb1d-c7a3ff5f32f2",
   "metadata": {},
   "outputs": [
    {
     "name": "stdout",
     "output_type": "stream",
     "text": [
      " Priya Manikandan😘\n"
     ]
    },
    {
     "data": {
      "text/plain": [
       "2575"
      ]
     },
     "execution_count": 60,
     "metadata": {},
     "output_type": "execute_result"
    }
   ],
   "source": [
    "print(Less_Talkative_name)\n",
    "Less_Talkative"
   ]
  },
  {
   "cell_type": "code",
   "execution_count": 61,
   "id": "43f7c0ea-9b1a-41d5-86ba-01331fe90111",
   "metadata": {},
   "outputs": [],
   "source": [
    "talkative_df = pd.DataFrame({'Index':['Most Talkative','Less Talkative'],\n",
    "                            'Name': [Most_Talkative_name,Less_Talkative_name],\n",
    "                            'Message_count': [Most_Talkative,Less_Talkative]})"
   ]
  },
  {
   "cell_type": "code",
   "execution_count": 62,
   "id": "9946d58c-0ce1-4b22-9466-e6f13a3c1a2b",
   "metadata": {},
   "outputs": [
    {
     "data": {
      "text/html": [
       "<div>\n",
       "<style scoped>\n",
       "    .dataframe tbody tr th:only-of-type {\n",
       "        vertical-align: middle;\n",
       "    }\n",
       "\n",
       "    .dataframe tbody tr th {\n",
       "        vertical-align: top;\n",
       "    }\n",
       "\n",
       "    .dataframe thead th {\n",
       "        text-align: right;\n",
       "    }\n",
       "</style>\n",
       "<table border=\"1\" class=\"dataframe\">\n",
       "  <thead>\n",
       "    <tr style=\"text-align: right;\">\n",
       "      <th></th>\n",
       "      <th>Index</th>\n",
       "      <th>Name</th>\n",
       "      <th>Message_count</th>\n",
       "    </tr>\n",
       "  </thead>\n",
       "  <tbody>\n",
       "    <tr>\n",
       "      <th>0</th>\n",
       "      <td>Most Talkative</td>\n",
       "      <td>Poooor</td>\n",
       "      <td>2912</td>\n",
       "    </tr>\n",
       "    <tr>\n",
       "      <th>1</th>\n",
       "      <td>Less Talkative</td>\n",
       "      <td>Priya Manikandan😘</td>\n",
       "      <td>2575</td>\n",
       "    </tr>\n",
       "  </tbody>\n",
       "</table>\n",
       "</div>"
      ],
      "text/plain": [
       "            Index                Name  Message_count\n",
       "0  Most Talkative              Poooor           2912\n",
       "1  Less Talkative   Priya Manikandan😘           2575"
      ]
     },
     "execution_count": 62,
     "metadata": {},
     "output_type": "execute_result"
    }
   ],
   "source": [
    "talkative_df"
   ]
  },
  {
   "cell_type": "markdown",
   "id": "0ec0a54c-b435-48a2-8674-693b2c9c48cf",
   "metadata": {},
   "source": [
    "### Most Active Day "
   ]
  },
  {
   "cell_type": "code",
   "execution_count": 63,
   "id": "ff8bcd84-7517-41db-a587-ed07d6909442",
   "metadata": {},
   "outputs": [],
   "source": [
    "df['TimeStamp'] = pd.to_datetime(df['Date'] + df['Time'])"
   ]
  },
  {
   "cell_type": "code",
   "execution_count": 64,
   "id": "a08f07d9-9b80-4c2d-8d7c-15e504ac5fd6",
   "metadata": {},
   "outputs": [
    {
     "data": {
      "text/plain": [
       "0      2016-12-07 23:46:00\n",
       "1      2016-12-07 23:46:00\n",
       "2      2016-12-07 23:47:00\n",
       "3      2016-12-07 23:47:00\n",
       "4      2016-12-07 23:48:00\n",
       "               ...        \n",
       "5749   2024-12-04 22:00:00\n",
       "5750   2024-12-04 22:00:00\n",
       "5751   2024-12-04 22:00:00\n",
       "5752   2024-12-04 22:18:00\n",
       "5753   2024-12-04 23:49:00\n",
       "Name: TimeStamp, Length: 5487, dtype: datetime64[ns]"
      ]
     },
     "execution_count": 64,
     "metadata": {},
     "output_type": "execute_result"
    }
   ],
   "source": [
    "df['TimeStamp']"
   ]
  },
  {
   "cell_type": "code",
   "execution_count": 65,
   "id": "28bb1ef6-918d-4df7-b560-e83edf348acd",
   "metadata": {},
   "outputs": [
    {
     "data": {
      "text/html": [
       "<div>\n",
       "<style scoped>\n",
       "    .dataframe tbody tr th:only-of-type {\n",
       "        vertical-align: middle;\n",
       "    }\n",
       "\n",
       "    .dataframe tbody tr th {\n",
       "        vertical-align: top;\n",
       "    }\n",
       "\n",
       "    .dataframe thead th {\n",
       "        text-align: right;\n",
       "    }\n",
       "</style>\n",
       "<table border=\"1\" class=\"dataframe\">\n",
       "  <thead>\n",
       "    <tr style=\"text-align: right;\">\n",
       "      <th></th>\n",
       "      <th>Date</th>\n",
       "      <th>Time</th>\n",
       "      <th>Name</th>\n",
       "      <th>cleaned_messages</th>\n",
       "      <th>Scores</th>\n",
       "      <th>Compound</th>\n",
       "      <th>Positive</th>\n",
       "      <th>Negative</th>\n",
       "      <th>Neutral</th>\n",
       "      <th>MessageType</th>\n",
       "      <th>TimeStamp</th>\n",
       "    </tr>\n",
       "  </thead>\n",
       "  <tbody>\n",
       "    <tr>\n",
       "      <th>0</th>\n",
       "      <td>12/7/16</td>\n",
       "      <td>11:46 PM</td>\n",
       "      <td>Poooor</td>\n",
       "      <td>Hello!</td>\n",
       "      <td>{'neg': 0.0, 'neu': 1.0, 'pos': 0.0, 'compound...</td>\n",
       "      <td>0.0000</td>\n",
       "      <td>0.0</td>\n",
       "      <td>0.000</td>\n",
       "      <td>1.000</td>\n",
       "      <td>Non-Flirt</td>\n",
       "      <td>2016-12-07 23:46:00</td>\n",
       "    </tr>\n",
       "    <tr>\n",
       "      <th>1</th>\n",
       "      <td>12/7/16</td>\n",
       "      <td>11:46 PM</td>\n",
       "      <td>Poooor</td>\n",
       "      <td>&lt;Media omitted&gt;</td>\n",
       "      <td>{'neg': 0.0, 'neu': 1.0, 'pos': 0.0, 'compound...</td>\n",
       "      <td>0.0000</td>\n",
       "      <td>0.0</td>\n",
       "      <td>0.000</td>\n",
       "      <td>1.000</td>\n",
       "      <td>Non-Flirt</td>\n",
       "      <td>2016-12-07 23:46:00</td>\n",
       "    </tr>\n",
       "    <tr>\n",
       "      <th>2</th>\n",
       "      <td>12/7/16</td>\n",
       "      <td>11:47 PM</td>\n",
       "      <td>Priya Manikandan😘</td>\n",
       "      <td>Who's dis</td>\n",
       "      <td>{'neg': 0.0, 'neu': 1.0, 'pos': 0.0, 'compound...</td>\n",
       "      <td>0.0000</td>\n",
       "      <td>0.0</td>\n",
       "      <td>0.000</td>\n",
       "      <td>1.000</td>\n",
       "      <td>Non-Flirt</td>\n",
       "      <td>2016-12-07 23:47:00</td>\n",
       "    </tr>\n",
       "    <tr>\n",
       "      <th>3</th>\n",
       "      <td>12/7/16</td>\n",
       "      <td>11:47 PM</td>\n",
       "      <td>Poooor</td>\n",
       "      <td></td>\n",
       "      <td>{'neg': 0.0, 'neu': 0.0, 'pos': 0.0, 'compound...</td>\n",
       "      <td>0.0000</td>\n",
       "      <td>0.0</td>\n",
       "      <td>0.000</td>\n",
       "      <td>0.000</td>\n",
       "      <td>Non-Flirt</td>\n",
       "      <td>2016-12-07 23:47:00</td>\n",
       "    </tr>\n",
       "    <tr>\n",
       "      <th>4</th>\n",
       "      <td>12/7/16</td>\n",
       "      <td>11:48 PM</td>\n",
       "      <td>Priya Manikandan😘</td>\n",
       "      <td>Lost all my contacts few weeks back</td>\n",
       "      <td>{'neg': 0.277, 'neu': 0.723, 'pos': 0.0, 'comp...</td>\n",
       "      <td>-0.3182</td>\n",
       "      <td>0.0</td>\n",
       "      <td>0.277</td>\n",
       "      <td>0.723</td>\n",
       "      <td>Non-Flirt</td>\n",
       "      <td>2016-12-07 23:48:00</td>\n",
       "    </tr>\n",
       "  </tbody>\n",
       "</table>\n",
       "</div>"
      ],
      "text/plain": [
       "      Date        Time                Name  \\\n",
       "0  12/7/16   11:46 PM               Poooor   \n",
       "1  12/7/16   11:46 PM               Poooor   \n",
       "2  12/7/16   11:47 PM    Priya Manikandan😘   \n",
       "3  12/7/16   11:47 PM               Poooor   \n",
       "4  12/7/16   11:48 PM    Priya Manikandan😘   \n",
       "\n",
       "                      cleaned_messages  \\\n",
       "0                               Hello!   \n",
       "1                      <Media omitted>   \n",
       "2                            Who's dis   \n",
       "3                                        \n",
       "4  Lost all my contacts few weeks back   \n",
       "\n",
       "                                              Scores  Compound  Positive  \\\n",
       "0  {'neg': 0.0, 'neu': 1.0, 'pos': 0.0, 'compound...    0.0000       0.0   \n",
       "1  {'neg': 0.0, 'neu': 1.0, 'pos': 0.0, 'compound...    0.0000       0.0   \n",
       "2  {'neg': 0.0, 'neu': 1.0, 'pos': 0.0, 'compound...    0.0000       0.0   \n",
       "3  {'neg': 0.0, 'neu': 0.0, 'pos': 0.0, 'compound...    0.0000       0.0   \n",
       "4  {'neg': 0.277, 'neu': 0.723, 'pos': 0.0, 'comp...   -0.3182       0.0   \n",
       "\n",
       "   Negative  Neutral MessageType           TimeStamp  \n",
       "0     0.000    1.000   Non-Flirt 2016-12-07 23:46:00  \n",
       "1     0.000    1.000   Non-Flirt 2016-12-07 23:46:00  \n",
       "2     0.000    1.000   Non-Flirt 2016-12-07 23:47:00  \n",
       "3     0.000    0.000   Non-Flirt 2016-12-07 23:47:00  \n",
       "4     0.277    0.723   Non-Flirt 2016-12-07 23:48:00  "
      ]
     },
     "execution_count": 65,
     "metadata": {},
     "output_type": "execute_result"
    }
   ],
   "source": [
    "df.head()"
   ]
  },
  {
   "cell_type": "code",
   "execution_count": 66,
   "id": "d2d61ba4-edfb-4c8a-8c0d-a3a0ea24b232",
   "metadata": {},
   "outputs": [],
   "source": [
    "df['Day'] = df['TimeStamp'].dt.day_name()"
   ]
  },
  {
   "cell_type": "code",
   "execution_count": 67,
   "id": "6d8bc98b-7d05-45c0-a307-d22a1838299c",
   "metadata": {},
   "outputs": [],
   "source": [
    "df['Hour'] = df['TimeStamp'].dt.hour"
   ]
  },
  {
   "cell_type": "code",
   "execution_count": 68,
   "id": "9f628c91-60df-4b25-94de-e76ba633127c",
   "metadata": {},
   "outputs": [
    {
     "data": {
      "text/html": [
       "<div>\n",
       "<style scoped>\n",
       "    .dataframe tbody tr th:only-of-type {\n",
       "        vertical-align: middle;\n",
       "    }\n",
       "\n",
       "    .dataframe tbody tr th {\n",
       "        vertical-align: top;\n",
       "    }\n",
       "\n",
       "    .dataframe thead th {\n",
       "        text-align: right;\n",
       "    }\n",
       "</style>\n",
       "<table border=\"1\" class=\"dataframe\">\n",
       "  <thead>\n",
       "    <tr style=\"text-align: right;\">\n",
       "      <th></th>\n",
       "      <th>Date</th>\n",
       "      <th>Time</th>\n",
       "      <th>Name</th>\n",
       "      <th>cleaned_messages</th>\n",
       "      <th>Scores</th>\n",
       "      <th>Compound</th>\n",
       "      <th>Positive</th>\n",
       "      <th>Negative</th>\n",
       "      <th>Neutral</th>\n",
       "      <th>MessageType</th>\n",
       "      <th>TimeStamp</th>\n",
       "      <th>Day</th>\n",
       "      <th>Hour</th>\n",
       "    </tr>\n",
       "  </thead>\n",
       "  <tbody>\n",
       "    <tr>\n",
       "      <th>0</th>\n",
       "      <td>12/7/16</td>\n",
       "      <td>11:46 PM</td>\n",
       "      <td>Poooor</td>\n",
       "      <td>Hello!</td>\n",
       "      <td>{'neg': 0.0, 'neu': 1.0, 'pos': 0.0, 'compound...</td>\n",
       "      <td>0.0000</td>\n",
       "      <td>0.0</td>\n",
       "      <td>0.000</td>\n",
       "      <td>1.000</td>\n",
       "      <td>Non-Flirt</td>\n",
       "      <td>2016-12-07 23:46:00</td>\n",
       "      <td>Wednesday</td>\n",
       "      <td>23</td>\n",
       "    </tr>\n",
       "    <tr>\n",
       "      <th>1</th>\n",
       "      <td>12/7/16</td>\n",
       "      <td>11:46 PM</td>\n",
       "      <td>Poooor</td>\n",
       "      <td>&lt;Media omitted&gt;</td>\n",
       "      <td>{'neg': 0.0, 'neu': 1.0, 'pos': 0.0, 'compound...</td>\n",
       "      <td>0.0000</td>\n",
       "      <td>0.0</td>\n",
       "      <td>0.000</td>\n",
       "      <td>1.000</td>\n",
       "      <td>Non-Flirt</td>\n",
       "      <td>2016-12-07 23:46:00</td>\n",
       "      <td>Wednesday</td>\n",
       "      <td>23</td>\n",
       "    </tr>\n",
       "    <tr>\n",
       "      <th>2</th>\n",
       "      <td>12/7/16</td>\n",
       "      <td>11:47 PM</td>\n",
       "      <td>Priya Manikandan😘</td>\n",
       "      <td>Who's dis</td>\n",
       "      <td>{'neg': 0.0, 'neu': 1.0, 'pos': 0.0, 'compound...</td>\n",
       "      <td>0.0000</td>\n",
       "      <td>0.0</td>\n",
       "      <td>0.000</td>\n",
       "      <td>1.000</td>\n",
       "      <td>Non-Flirt</td>\n",
       "      <td>2016-12-07 23:47:00</td>\n",
       "      <td>Wednesday</td>\n",
       "      <td>23</td>\n",
       "    </tr>\n",
       "    <tr>\n",
       "      <th>3</th>\n",
       "      <td>12/7/16</td>\n",
       "      <td>11:47 PM</td>\n",
       "      <td>Poooor</td>\n",
       "      <td></td>\n",
       "      <td>{'neg': 0.0, 'neu': 0.0, 'pos': 0.0, 'compound...</td>\n",
       "      <td>0.0000</td>\n",
       "      <td>0.0</td>\n",
       "      <td>0.000</td>\n",
       "      <td>0.000</td>\n",
       "      <td>Non-Flirt</td>\n",
       "      <td>2016-12-07 23:47:00</td>\n",
       "      <td>Wednesday</td>\n",
       "      <td>23</td>\n",
       "    </tr>\n",
       "    <tr>\n",
       "      <th>4</th>\n",
       "      <td>12/7/16</td>\n",
       "      <td>11:48 PM</td>\n",
       "      <td>Priya Manikandan😘</td>\n",
       "      <td>Lost all my contacts few weeks back</td>\n",
       "      <td>{'neg': 0.277, 'neu': 0.723, 'pos': 0.0, 'comp...</td>\n",
       "      <td>-0.3182</td>\n",
       "      <td>0.0</td>\n",
       "      <td>0.277</td>\n",
       "      <td>0.723</td>\n",
       "      <td>Non-Flirt</td>\n",
       "      <td>2016-12-07 23:48:00</td>\n",
       "      <td>Wednesday</td>\n",
       "      <td>23</td>\n",
       "    </tr>\n",
       "  </tbody>\n",
       "</table>\n",
       "</div>"
      ],
      "text/plain": [
       "      Date        Time                Name  \\\n",
       "0  12/7/16   11:46 PM               Poooor   \n",
       "1  12/7/16   11:46 PM               Poooor   \n",
       "2  12/7/16   11:47 PM    Priya Manikandan😘   \n",
       "3  12/7/16   11:47 PM               Poooor   \n",
       "4  12/7/16   11:48 PM    Priya Manikandan😘   \n",
       "\n",
       "                      cleaned_messages  \\\n",
       "0                               Hello!   \n",
       "1                      <Media omitted>   \n",
       "2                            Who's dis   \n",
       "3                                        \n",
       "4  Lost all my contacts few weeks back   \n",
       "\n",
       "                                              Scores  Compound  Positive  \\\n",
       "0  {'neg': 0.0, 'neu': 1.0, 'pos': 0.0, 'compound...    0.0000       0.0   \n",
       "1  {'neg': 0.0, 'neu': 1.0, 'pos': 0.0, 'compound...    0.0000       0.0   \n",
       "2  {'neg': 0.0, 'neu': 1.0, 'pos': 0.0, 'compound...    0.0000       0.0   \n",
       "3  {'neg': 0.0, 'neu': 0.0, 'pos': 0.0, 'compound...    0.0000       0.0   \n",
       "4  {'neg': 0.277, 'neu': 0.723, 'pos': 0.0, 'comp...   -0.3182       0.0   \n",
       "\n",
       "   Negative  Neutral MessageType           TimeStamp        Day  Hour  \n",
       "0     0.000    1.000   Non-Flirt 2016-12-07 23:46:00  Wednesday    23  \n",
       "1     0.000    1.000   Non-Flirt 2016-12-07 23:46:00  Wednesday    23  \n",
       "2     0.000    1.000   Non-Flirt 2016-12-07 23:47:00  Wednesday    23  \n",
       "3     0.000    0.000   Non-Flirt 2016-12-07 23:47:00  Wednesday    23  \n",
       "4     0.277    0.723   Non-Flirt 2016-12-07 23:48:00  Wednesday    23  "
      ]
     },
     "execution_count": 68,
     "metadata": {},
     "output_type": "execute_result"
    }
   ],
   "source": [
    "df.head()"
   ]
  },
  {
   "cell_type": "code",
   "execution_count": 69,
   "id": "2792afd1-3c32-417e-833b-37b79db6e5f6",
   "metadata": {},
   "outputs": [],
   "source": [
    "most_active_day = df['Day'].value_counts().idxmax()\n",
    "most_active_day_count = df['Day'].value_counts().max()"
   ]
  },
  {
   "cell_type": "code",
   "execution_count": 70,
   "id": "16ee145f-59a3-4b1d-840f-2e6cf80ae5eb",
   "metadata": {},
   "outputs": [
    {
     "data": {
      "text/plain": [
       "'Tuesday'"
      ]
     },
     "execution_count": 70,
     "metadata": {},
     "output_type": "execute_result"
    }
   ],
   "source": [
    "most_active_day"
   ]
  },
  {
   "cell_type": "code",
   "execution_count": 71,
   "id": "9c858c10-69d7-46a8-a5fe-c9bfb7b4f4c8",
   "metadata": {},
   "outputs": [
    {
     "data": {
      "text/plain": [
       "963"
      ]
     },
     "execution_count": 71,
     "metadata": {},
     "output_type": "execute_result"
    }
   ],
   "source": [
    "most_active_day_count"
   ]
  },
  {
   "cell_type": "code",
   "execution_count": 72,
   "id": "37543bdb-20d7-4178-ac7c-371e2f4d06ea",
   "metadata": {},
   "outputs": [],
   "source": [
    "MostActiveDay = pd.DataFrame({'Index': ['Most Active Day'],\n",
    "                              'Day': most_active_day,\n",
    "                               'Count' : most_active_day_count})"
   ]
  },
  {
   "cell_type": "code",
   "execution_count": 73,
   "id": "3609802f-af19-403d-8646-2f1ef9c5c488",
   "metadata": {},
   "outputs": [
    {
     "data": {
      "text/html": [
       "<div>\n",
       "<style scoped>\n",
       "    .dataframe tbody tr th:only-of-type {\n",
       "        vertical-align: middle;\n",
       "    }\n",
       "\n",
       "    .dataframe tbody tr th {\n",
       "        vertical-align: top;\n",
       "    }\n",
       "\n",
       "    .dataframe thead th {\n",
       "        text-align: right;\n",
       "    }\n",
       "</style>\n",
       "<table border=\"1\" class=\"dataframe\">\n",
       "  <thead>\n",
       "    <tr style=\"text-align: right;\">\n",
       "      <th></th>\n",
       "      <th>Index</th>\n",
       "      <th>Day</th>\n",
       "      <th>Count</th>\n",
       "    </tr>\n",
       "  </thead>\n",
       "  <tbody>\n",
       "    <tr>\n",
       "      <th>0</th>\n",
       "      <td>Most Active Day</td>\n",
       "      <td>Tuesday</td>\n",
       "      <td>963</td>\n",
       "    </tr>\n",
       "  </tbody>\n",
       "</table>\n",
       "</div>"
      ],
      "text/plain": [
       "             Index      Day  Count\n",
       "0  Most Active Day  Tuesday    963"
      ]
     },
     "execution_count": 73,
     "metadata": {},
     "output_type": "execute_result"
    }
   ],
   "source": [
    "MostActiveDay"
   ]
  },
  {
   "cell_type": "markdown",
   "id": "6bdf83ae-5a90-4177-b45c-48bb746b04db",
   "metadata": {},
   "source": [
    "### Most Active Time"
   ]
  },
  {
   "cell_type": "code",
   "execution_count": 74,
   "id": "4dc96126-1f3b-4079-87b3-43162ec0dc5f",
   "metadata": {},
   "outputs": [],
   "source": [
    "most_active_time = df['Hour'].value_counts().idxmax()\n",
    "most_active_time_count = df['Hour'].value_counts().max()"
   ]
  },
  {
   "cell_type": "code",
   "execution_count": 75,
   "id": "4d37c604-41e6-435c-acfb-aaff6b9ffe68",
   "metadata": {},
   "outputs": [],
   "source": [
    "MostActiveTime = pd.DataFrame({'Index': ['Most Active Time'],\n",
    "                              'Hour': most_active_time,\n",
    "                              'Count' : most_active_time_count})"
   ]
  },
  {
   "cell_type": "code",
   "execution_count": 76,
   "id": "8d712402-598e-412e-badc-0b21e4525232",
   "metadata": {},
   "outputs": [
    {
     "data": {
      "text/html": [
       "<div>\n",
       "<style scoped>\n",
       "    .dataframe tbody tr th:only-of-type {\n",
       "        vertical-align: middle;\n",
       "    }\n",
       "\n",
       "    .dataframe tbody tr th {\n",
       "        vertical-align: top;\n",
       "    }\n",
       "\n",
       "    .dataframe thead th {\n",
       "        text-align: right;\n",
       "    }\n",
       "</style>\n",
       "<table border=\"1\" class=\"dataframe\">\n",
       "  <thead>\n",
       "    <tr style=\"text-align: right;\">\n",
       "      <th></th>\n",
       "      <th>Index</th>\n",
       "      <th>Hour</th>\n",
       "      <th>Count</th>\n",
       "    </tr>\n",
       "  </thead>\n",
       "  <tbody>\n",
       "    <tr>\n",
       "      <th>0</th>\n",
       "      <td>Most Active Time</td>\n",
       "      <td>6</td>\n",
       "      <td>505</td>\n",
       "    </tr>\n",
       "  </tbody>\n",
       "</table>\n",
       "</div>"
      ],
      "text/plain": [
       "              Index  Hour  Count\n",
       "0  Most Active Time     6    505"
      ]
     },
     "execution_count": 76,
     "metadata": {},
     "output_type": "execute_result"
    }
   ],
   "source": [
    "MostActiveTime"
   ]
  },
  {
   "cell_type": "code",
   "execution_count": 77,
   "id": "8e75047d-c7f0-4125-8282-d1b2ce7a2bef",
   "metadata": {},
   "outputs": [
    {
     "data": {
      "text/html": [
       "<div>\n",
       "<style scoped>\n",
       "    .dataframe tbody tr th:only-of-type {\n",
       "        vertical-align: middle;\n",
       "    }\n",
       "\n",
       "    .dataframe tbody tr th {\n",
       "        vertical-align: top;\n",
       "    }\n",
       "\n",
       "    .dataframe thead th {\n",
       "        text-align: right;\n",
       "    }\n",
       "</style>\n",
       "<table border=\"1\" class=\"dataframe\">\n",
       "  <thead>\n",
       "    <tr style=\"text-align: right;\">\n",
       "      <th></th>\n",
       "      <th>Date</th>\n",
       "      <th>Time</th>\n",
       "      <th>Name</th>\n",
       "      <th>cleaned_messages</th>\n",
       "      <th>Scores</th>\n",
       "      <th>Compound</th>\n",
       "      <th>Positive</th>\n",
       "      <th>Negative</th>\n",
       "      <th>Neutral</th>\n",
       "      <th>MessageType</th>\n",
       "      <th>TimeStamp</th>\n",
       "      <th>Day</th>\n",
       "      <th>Hour</th>\n",
       "    </tr>\n",
       "  </thead>\n",
       "  <tbody>\n",
       "    <tr>\n",
       "      <th>0</th>\n",
       "      <td>12/7/16</td>\n",
       "      <td>11:46 PM</td>\n",
       "      <td>Poooor</td>\n",
       "      <td>Hello!</td>\n",
       "      <td>{'neg': 0.0, 'neu': 1.0, 'pos': 0.0, 'compound...</td>\n",
       "      <td>0.0000</td>\n",
       "      <td>0.0</td>\n",
       "      <td>0.000</td>\n",
       "      <td>1.000</td>\n",
       "      <td>Non-Flirt</td>\n",
       "      <td>2016-12-07 23:46:00</td>\n",
       "      <td>Wednesday</td>\n",
       "      <td>23</td>\n",
       "    </tr>\n",
       "    <tr>\n",
       "      <th>1</th>\n",
       "      <td>12/7/16</td>\n",
       "      <td>11:46 PM</td>\n",
       "      <td>Poooor</td>\n",
       "      <td>&lt;Media omitted&gt;</td>\n",
       "      <td>{'neg': 0.0, 'neu': 1.0, 'pos': 0.0, 'compound...</td>\n",
       "      <td>0.0000</td>\n",
       "      <td>0.0</td>\n",
       "      <td>0.000</td>\n",
       "      <td>1.000</td>\n",
       "      <td>Non-Flirt</td>\n",
       "      <td>2016-12-07 23:46:00</td>\n",
       "      <td>Wednesday</td>\n",
       "      <td>23</td>\n",
       "    </tr>\n",
       "    <tr>\n",
       "      <th>2</th>\n",
       "      <td>12/7/16</td>\n",
       "      <td>11:47 PM</td>\n",
       "      <td>Priya Manikandan😘</td>\n",
       "      <td>Who's dis</td>\n",
       "      <td>{'neg': 0.0, 'neu': 1.0, 'pos': 0.0, 'compound...</td>\n",
       "      <td>0.0000</td>\n",
       "      <td>0.0</td>\n",
       "      <td>0.000</td>\n",
       "      <td>1.000</td>\n",
       "      <td>Non-Flirt</td>\n",
       "      <td>2016-12-07 23:47:00</td>\n",
       "      <td>Wednesday</td>\n",
       "      <td>23</td>\n",
       "    </tr>\n",
       "    <tr>\n",
       "      <th>3</th>\n",
       "      <td>12/7/16</td>\n",
       "      <td>11:47 PM</td>\n",
       "      <td>Poooor</td>\n",
       "      <td></td>\n",
       "      <td>{'neg': 0.0, 'neu': 0.0, 'pos': 0.0, 'compound...</td>\n",
       "      <td>0.0000</td>\n",
       "      <td>0.0</td>\n",
       "      <td>0.000</td>\n",
       "      <td>0.000</td>\n",
       "      <td>Non-Flirt</td>\n",
       "      <td>2016-12-07 23:47:00</td>\n",
       "      <td>Wednesday</td>\n",
       "      <td>23</td>\n",
       "    </tr>\n",
       "    <tr>\n",
       "      <th>4</th>\n",
       "      <td>12/7/16</td>\n",
       "      <td>11:48 PM</td>\n",
       "      <td>Priya Manikandan😘</td>\n",
       "      <td>Lost all my contacts few weeks back</td>\n",
       "      <td>{'neg': 0.277, 'neu': 0.723, 'pos': 0.0, 'comp...</td>\n",
       "      <td>-0.3182</td>\n",
       "      <td>0.0</td>\n",
       "      <td>0.277</td>\n",
       "      <td>0.723</td>\n",
       "      <td>Non-Flirt</td>\n",
       "      <td>2016-12-07 23:48:00</td>\n",
       "      <td>Wednesday</td>\n",
       "      <td>23</td>\n",
       "    </tr>\n",
       "  </tbody>\n",
       "</table>\n",
       "</div>"
      ],
      "text/plain": [
       "      Date        Time                Name  \\\n",
       "0  12/7/16   11:46 PM               Poooor   \n",
       "1  12/7/16   11:46 PM               Poooor   \n",
       "2  12/7/16   11:47 PM    Priya Manikandan😘   \n",
       "3  12/7/16   11:47 PM               Poooor   \n",
       "4  12/7/16   11:48 PM    Priya Manikandan😘   \n",
       "\n",
       "                      cleaned_messages  \\\n",
       "0                               Hello!   \n",
       "1                      <Media omitted>   \n",
       "2                            Who's dis   \n",
       "3                                        \n",
       "4  Lost all my contacts few weeks back   \n",
       "\n",
       "                                              Scores  Compound  Positive  \\\n",
       "0  {'neg': 0.0, 'neu': 1.0, 'pos': 0.0, 'compound...    0.0000       0.0   \n",
       "1  {'neg': 0.0, 'neu': 1.0, 'pos': 0.0, 'compound...    0.0000       0.0   \n",
       "2  {'neg': 0.0, 'neu': 1.0, 'pos': 0.0, 'compound...    0.0000       0.0   \n",
       "3  {'neg': 0.0, 'neu': 0.0, 'pos': 0.0, 'compound...    0.0000       0.0   \n",
       "4  {'neg': 0.277, 'neu': 0.723, 'pos': 0.0, 'comp...   -0.3182       0.0   \n",
       "\n",
       "   Negative  Neutral MessageType           TimeStamp        Day  Hour  \n",
       "0     0.000    1.000   Non-Flirt 2016-12-07 23:46:00  Wednesday    23  \n",
       "1     0.000    1.000   Non-Flirt 2016-12-07 23:46:00  Wednesday    23  \n",
       "2     0.000    1.000   Non-Flirt 2016-12-07 23:47:00  Wednesday    23  \n",
       "3     0.000    0.000   Non-Flirt 2016-12-07 23:47:00  Wednesday    23  \n",
       "4     0.277    0.723   Non-Flirt 2016-12-07 23:48:00  Wednesday    23  "
      ]
     },
     "execution_count": 77,
     "metadata": {},
     "output_type": "execute_result"
    }
   ],
   "source": [
    "df.head()"
   ]
  },
  {
   "cell_type": "code",
   "execution_count": 139,
   "id": "69c48990-dc60-4941-b3f6-1d6c6b0b1df8",
   "metadata": {},
   "outputs": [],
   "source": [
    "media = df['cleaned_messages'] == '<Media omitted>'"
   ]
  },
  {
   "cell_type": "code",
   "execution_count": 140,
   "id": "8baceb10-ce6d-4c30-addb-afb238e63f28",
   "metadata": {},
   "outputs": [
    {
     "data": {
      "text/plain": [
       "cleaned_messages\n",
       "False    5142\n",
       "True      345\n",
       "Name: count, dtype: int64"
      ]
     },
     "execution_count": 140,
     "metadata": {},
     "output_type": "execute_result"
    }
   ],
   "source": [
    "media.value_counts()"
   ]
  },
  {
   "cell_type": "code",
   "execution_count": 144,
   "id": "375e9378-1c60-4ebb-bc9d-0539cc111336",
   "metadata": {
    "scrolled": true
   },
   "outputs": [
    {
     "data": {
      "text/html": [
       "<div>\n",
       "<style scoped>\n",
       "    .dataframe tbody tr th:only-of-type {\n",
       "        vertical-align: middle;\n",
       "    }\n",
       "\n",
       "    .dataframe tbody tr th {\n",
       "        vertical-align: top;\n",
       "    }\n",
       "\n",
       "    .dataframe thead th {\n",
       "        text-align: right;\n",
       "    }\n",
       "</style>\n",
       "<table border=\"1\" class=\"dataframe\">\n",
       "  <thead>\n",
       "    <tr style=\"text-align: right;\">\n",
       "      <th></th>\n",
       "      <th>Date</th>\n",
       "      <th>Time</th>\n",
       "      <th>Name</th>\n",
       "      <th>cleaned_messages</th>\n",
       "      <th>Scores</th>\n",
       "      <th>Compound</th>\n",
       "      <th>Positive</th>\n",
       "      <th>Negative</th>\n",
       "      <th>Neutral</th>\n",
       "      <th>MessageType</th>\n",
       "      <th>TimeStamp</th>\n",
       "      <th>Day</th>\n",
       "      <th>Hour</th>\n",
       "    </tr>\n",
       "  </thead>\n",
       "  <tbody>\n",
       "    <tr>\n",
       "      <th>1</th>\n",
       "      <td>12/7/16</td>\n",
       "      <td>11:46 PM</td>\n",
       "      <td>Poooor</td>\n",
       "      <td>&lt;Media omitted&gt;</td>\n",
       "      <td>{'neg': 0.0, 'neu': 1.0, 'pos': 0.0, 'compound...</td>\n",
       "      <td>0.0</td>\n",
       "      <td>0.0</td>\n",
       "      <td>0.0</td>\n",
       "      <td>1.0</td>\n",
       "      <td>Non-Flirt</td>\n",
       "      <td>2016-12-07 23:46:00</td>\n",
       "      <td>Wednesday</td>\n",
       "      <td>23</td>\n",
       "    </tr>\n",
       "    <tr>\n",
       "      <th>100</th>\n",
       "      <td>1/26/17</td>\n",
       "      <td>1:07 PM</td>\n",
       "      <td>Priya Manikandan😘</td>\n",
       "      <td>&lt;Media omitted&gt;</td>\n",
       "      <td>{'neg': 0.0, 'neu': 1.0, 'pos': 0.0, 'compound...</td>\n",
       "      <td>0.0</td>\n",
       "      <td>0.0</td>\n",
       "      <td>0.0</td>\n",
       "      <td>1.0</td>\n",
       "      <td>Non-Flirt</td>\n",
       "      <td>2017-01-26 13:07:00</td>\n",
       "      <td>Thursday</td>\n",
       "      <td>13</td>\n",
       "    </tr>\n",
       "    <tr>\n",
       "      <th>119</th>\n",
       "      <td>3/18/17</td>\n",
       "      <td>2:00 PM</td>\n",
       "      <td>Priya Manikandan😘</td>\n",
       "      <td>&lt;Media omitted&gt;</td>\n",
       "      <td>{'neg': 0.0, 'neu': 1.0, 'pos': 0.0, 'compound...</td>\n",
       "      <td>0.0</td>\n",
       "      <td>0.0</td>\n",
       "      <td>0.0</td>\n",
       "      <td>1.0</td>\n",
       "      <td>Non-Flirt</td>\n",
       "      <td>2017-03-18 14:00:00</td>\n",
       "      <td>Saturday</td>\n",
       "      <td>14</td>\n",
       "    </tr>\n",
       "    <tr>\n",
       "      <th>120</th>\n",
       "      <td>3/18/17</td>\n",
       "      <td>2:00 PM</td>\n",
       "      <td>Priya Manikandan😘</td>\n",
       "      <td>&lt;Media omitted&gt;</td>\n",
       "      <td>{'neg': 0.0, 'neu': 1.0, 'pos': 0.0, 'compound...</td>\n",
       "      <td>0.0</td>\n",
       "      <td>0.0</td>\n",
       "      <td>0.0</td>\n",
       "      <td>1.0</td>\n",
       "      <td>Non-Flirt</td>\n",
       "      <td>2017-03-18 14:00:00</td>\n",
       "      <td>Saturday</td>\n",
       "      <td>14</td>\n",
       "    </tr>\n",
       "    <tr>\n",
       "      <th>121</th>\n",
       "      <td>3/18/17</td>\n",
       "      <td>2:00 PM</td>\n",
       "      <td>Priya Manikandan😘</td>\n",
       "      <td>&lt;Media omitted&gt;</td>\n",
       "      <td>{'neg': 0.0, 'neu': 1.0, 'pos': 0.0, 'compound...</td>\n",
       "      <td>0.0</td>\n",
       "      <td>0.0</td>\n",
       "      <td>0.0</td>\n",
       "      <td>1.0</td>\n",
       "      <td>Non-Flirt</td>\n",
       "      <td>2017-03-18 14:00:00</td>\n",
       "      <td>Saturday</td>\n",
       "      <td>14</td>\n",
       "    </tr>\n",
       "  </tbody>\n",
       "</table>\n",
       "</div>"
      ],
      "text/plain": [
       "        Date        Time                Name cleaned_messages  \\\n",
       "1    12/7/16   11:46 PM               Poooor  <Media omitted>   \n",
       "100  1/26/17    1:07 PM    Priya Manikandan😘  <Media omitted>   \n",
       "119  3/18/17    2:00 PM    Priya Manikandan😘  <Media omitted>   \n",
       "120  3/18/17    2:00 PM    Priya Manikandan😘  <Media omitted>   \n",
       "121  3/18/17    2:00 PM    Priya Manikandan😘  <Media omitted>   \n",
       "\n",
       "                                                Scores  Compound  Positive  \\\n",
       "1    {'neg': 0.0, 'neu': 1.0, 'pos': 0.0, 'compound...       0.0       0.0   \n",
       "100  {'neg': 0.0, 'neu': 1.0, 'pos': 0.0, 'compound...       0.0       0.0   \n",
       "119  {'neg': 0.0, 'neu': 1.0, 'pos': 0.0, 'compound...       0.0       0.0   \n",
       "120  {'neg': 0.0, 'neu': 1.0, 'pos': 0.0, 'compound...       0.0       0.0   \n",
       "121  {'neg': 0.0, 'neu': 1.0, 'pos': 0.0, 'compound...       0.0       0.0   \n",
       "\n",
       "     Negative  Neutral MessageType           TimeStamp        Day  Hour  \n",
       "1         0.0      1.0   Non-Flirt 2016-12-07 23:46:00  Wednesday    23  \n",
       "100       0.0      1.0   Non-Flirt 2017-01-26 13:07:00   Thursday    13  \n",
       "119       0.0      1.0   Non-Flirt 2017-03-18 14:00:00   Saturday    14  \n",
       "120       0.0      1.0   Non-Flirt 2017-03-18 14:00:00   Saturday    14  \n",
       "121       0.0      1.0   Non-Flirt 2017-03-18 14:00:00   Saturday    14  "
      ]
     },
     "execution_count": 144,
     "metadata": {},
     "output_type": "execute_result"
    }
   ],
   "source": [
    "Media_df = df[(df['Name'].notnull()) & (df['cleaned_messages'] == '<Media omitted>')]\n",
    "Media_df.head()"
   ]
  },
  {
   "cell_type": "code",
   "execution_count": 142,
   "id": "2c302f2c-dfc3-4472-a20d-ea54d311c0af",
   "metadata": {},
   "outputs": [
    {
     "data": {
      "text/plain": [
       "<Axes: xlabel='cleaned_messages', ylabel='count'>"
      ]
     },
     "execution_count": 142,
     "metadata": {},
     "output_type": "execute_result"
    },
    {
     "data": {
      "image/png": "[encoded data removed]",
      "text/plain": [
       "<Figure size 640x480 with 1 Axes>"
      ]
     },
     "metadata": {},
     "output_type": "display_data"
    }
   ],
   "source": [
    "sb.countplot(data=Media_df, x = 'cleaned_messages', hue = 'Name', palette = 'viridis')"
   ]
  },
  {
   "cell_type": "markdown",
   "id": "88153367-65aa-4878-b869-9188f65887d9",
   "metadata": {},
   "source": [
    "### Missed Call Count"
   ]
  },
  {
   "cell_type": "code",
   "execution_count": 160,
   "id": "7b2012f3-93b0-4654-8e91-1d833410e491",
   "metadata": {},
   "outputs": [
    {
     "name": "stdout",
     "output_type": "stream",
     "text": [
      "Missed Call Count :  9\n"
     ]
    }
   ],
   "source": [
    "missed_call = df['cleaned_messages'] == 'Missed voice call'\n",
    "print('Missed Call Count : ', missed_call.sum())"
   ]
  },
  {
   "cell_type": "code",
   "execution_count": 158,
   "id": "88f10f58-b061-41c9-8be0-e86c6e55b98c",
   "metadata": {
    "scrolled": true
   },
   "outputs": [
    {
     "data": {
      "text/html": [
       "<div>\n",
       "<style scoped>\n",
       "    .dataframe tbody tr th:only-of-type {\n",
       "        vertical-align: middle;\n",
       "    }\n",
       "\n",
       "    .dataframe tbody tr th {\n",
       "        vertical-align: top;\n",
       "    }\n",
       "\n",
       "    .dataframe thead th {\n",
       "        text-align: right;\n",
       "    }\n",
       "</style>\n",
       "<table border=\"1\" class=\"dataframe\">\n",
       "  <thead>\n",
       "    <tr style=\"text-align: right;\">\n",
       "      <th></th>\n",
       "      <th>Date</th>\n",
       "      <th>Time</th>\n",
       "      <th>Name</th>\n",
       "      <th>cleaned_messages</th>\n",
       "      <th>Scores</th>\n",
       "      <th>Compound</th>\n",
       "      <th>Positive</th>\n",
       "      <th>Negative</th>\n",
       "      <th>Neutral</th>\n",
       "      <th>MessageType</th>\n",
       "      <th>TimeStamp</th>\n",
       "      <th>Day</th>\n",
       "      <th>Hour</th>\n",
       "    </tr>\n",
       "  </thead>\n",
       "  <tbody>\n",
       "    <tr>\n",
       "      <th>143</th>\n",
       "      <td>4/3/17</td>\n",
       "      <td>4:51 AM</td>\n",
       "      <td>Poooor</td>\n",
       "      <td>Missed voice call</td>\n",
       "      <td>{'neg': 0.524, 'neu': 0.476, 'pos': 0.0, 'comp...</td>\n",
       "      <td>-0.296</td>\n",
       "      <td>0.0</td>\n",
       "      <td>0.524</td>\n",
       "      <td>0.476</td>\n",
       "      <td>Non-Flirt</td>\n",
       "      <td>2017-04-03 04:51:00</td>\n",
       "      <td>Monday</td>\n",
       "      <td>4</td>\n",
       "    </tr>\n",
       "    <tr>\n",
       "      <th>4040</th>\n",
       "      <td>10/15/22</td>\n",
       "      <td>2:51 PM</td>\n",
       "      <td>Poooor</td>\n",
       "      <td>Missed voice call</td>\n",
       "      <td>{'neg': 0.524, 'neu': 0.476, 'pos': 0.0, 'comp...</td>\n",
       "      <td>-0.296</td>\n",
       "      <td>0.0</td>\n",
       "      <td>0.524</td>\n",
       "      <td>0.476</td>\n",
       "      <td>Non-Flirt</td>\n",
       "      <td>2022-10-15 14:51:00</td>\n",
       "      <td>Saturday</td>\n",
       "      <td>14</td>\n",
       "    </tr>\n",
       "    <tr>\n",
       "      <th>4981</th>\n",
       "      <td>4/16/23</td>\n",
       "      <td>10:23 AM</td>\n",
       "      <td>Poooor</td>\n",
       "      <td>Missed voice call</td>\n",
       "      <td>{'neg': 0.524, 'neu': 0.476, 'pos': 0.0, 'comp...</td>\n",
       "      <td>-0.296</td>\n",
       "      <td>0.0</td>\n",
       "      <td>0.524</td>\n",
       "      <td>0.476</td>\n",
       "      <td>Non-Flirt</td>\n",
       "      <td>2023-04-16 10:23:00</td>\n",
       "      <td>Sunday</td>\n",
       "      <td>10</td>\n",
       "    </tr>\n",
       "    <tr>\n",
       "      <th>5006</th>\n",
       "      <td>5/1/23</td>\n",
       "      <td>4:56 PM</td>\n",
       "      <td>Poooor</td>\n",
       "      <td>Missed voice call</td>\n",
       "      <td>{'neg': 0.524, 'neu': 0.476, 'pos': 0.0, 'comp...</td>\n",
       "      <td>-0.296</td>\n",
       "      <td>0.0</td>\n",
       "      <td>0.524</td>\n",
       "      <td>0.476</td>\n",
       "      <td>Non-Flirt</td>\n",
       "      <td>2023-05-01 16:56:00</td>\n",
       "      <td>Monday</td>\n",
       "      <td>16</td>\n",
       "    </tr>\n",
       "    <tr>\n",
       "      <th>5107</th>\n",
       "      <td>6/12/23</td>\n",
       "      <td>6:04 PM</td>\n",
       "      <td>Poooor</td>\n",
       "      <td>Missed voice call</td>\n",
       "      <td>{'neg': 0.524, 'neu': 0.476, 'pos': 0.0, 'comp...</td>\n",
       "      <td>-0.296</td>\n",
       "      <td>0.0</td>\n",
       "      <td>0.524</td>\n",
       "      <td>0.476</td>\n",
       "      <td>Non-Flirt</td>\n",
       "      <td>2023-06-12 18:04:00</td>\n",
       "      <td>Monday</td>\n",
       "      <td>18</td>\n",
       "    </tr>\n",
       "    <tr>\n",
       "      <th>5142</th>\n",
       "      <td>6/19/23</td>\n",
       "      <td>1:58 PM</td>\n",
       "      <td>Poooor</td>\n",
       "      <td>Missed voice call</td>\n",
       "      <td>{'neg': 0.524, 'neu': 0.476, 'pos': 0.0, 'comp...</td>\n",
       "      <td>-0.296</td>\n",
       "      <td>0.0</td>\n",
       "      <td>0.524</td>\n",
       "      <td>0.476</td>\n",
       "      <td>Non-Flirt</td>\n",
       "      <td>2023-06-19 13:58:00</td>\n",
       "      <td>Monday</td>\n",
       "      <td>13</td>\n",
       "    </tr>\n",
       "    <tr>\n",
       "      <th>5147</th>\n",
       "      <td>6/23/23</td>\n",
       "      <td>12:26 PM</td>\n",
       "      <td>Poooor</td>\n",
       "      <td>Missed voice call</td>\n",
       "      <td>{'neg': 0.524, 'neu': 0.476, 'pos': 0.0, 'comp...</td>\n",
       "      <td>-0.296</td>\n",
       "      <td>0.0</td>\n",
       "      <td>0.524</td>\n",
       "      <td>0.476</td>\n",
       "      <td>Non-Flirt</td>\n",
       "      <td>2023-06-23 12:26:00</td>\n",
       "      <td>Friday</td>\n",
       "      <td>12</td>\n",
       "    </tr>\n",
       "    <tr>\n",
       "      <th>5176</th>\n",
       "      <td>9/1/23</td>\n",
       "      <td>7:27 PM</td>\n",
       "      <td>Poooor</td>\n",
       "      <td>Missed voice call</td>\n",
       "      <td>{'neg': 0.524, 'neu': 0.476, 'pos': 0.0, 'comp...</td>\n",
       "      <td>-0.296</td>\n",
       "      <td>0.0</td>\n",
       "      <td>0.524</td>\n",
       "      <td>0.476</td>\n",
       "      <td>Non-Flirt</td>\n",
       "      <td>2023-09-01 19:27:00</td>\n",
       "      <td>Friday</td>\n",
       "      <td>19</td>\n",
       "    </tr>\n",
       "    <tr>\n",
       "      <th>5213</th>\n",
       "      <td>9/30/23</td>\n",
       "      <td>1:35 PM</td>\n",
       "      <td>Poooor</td>\n",
       "      <td>Missed voice call</td>\n",
       "      <td>{'neg': 0.524, 'neu': 0.476, 'pos': 0.0, 'comp...</td>\n",
       "      <td>-0.296</td>\n",
       "      <td>0.0</td>\n",
       "      <td>0.524</td>\n",
       "      <td>0.476</td>\n",
       "      <td>Non-Flirt</td>\n",
       "      <td>2023-09-30 13:35:00</td>\n",
       "      <td>Saturday</td>\n",
       "      <td>13</td>\n",
       "    </tr>\n",
       "  </tbody>\n",
       "</table>\n",
       "</div>"
      ],
      "text/plain": [
       "          Date        Time     Name   cleaned_messages  \\\n",
       "143     4/3/17    4:51 AM    Poooor  Missed voice call   \n",
       "4040  10/15/22    2:51 PM    Poooor  Missed voice call   \n",
       "4981   4/16/23   10:23 AM    Poooor  Missed voice call   \n",
       "5006    5/1/23    4:56 PM    Poooor  Missed voice call   \n",
       "5107   6/12/23    6:04 PM    Poooor  Missed voice call   \n",
       "5142   6/19/23    1:58 PM    Poooor  Missed voice call   \n",
       "5147   6/23/23   12:26 PM    Poooor  Missed voice call   \n",
       "5176    9/1/23    7:27 PM    Poooor  Missed voice call   \n",
       "5213   9/30/23    1:35 PM    Poooor  Missed voice call   \n",
       "\n",
       "                                                 Scores  Compound  Positive  \\\n",
       "143   {'neg': 0.524, 'neu': 0.476, 'pos': 0.0, 'comp...    -0.296       0.0   \n",
       "4040  {'neg': 0.524, 'neu': 0.476, 'pos': 0.0, 'comp...    -0.296       0.0   \n",
       "4981  {'neg': 0.524, 'neu': 0.476, 'pos': 0.0, 'comp...    -0.296       0.0   \n",
       "5006  {'neg': 0.524, 'neu': 0.476, 'pos': 0.0, 'comp...    -0.296       0.0   \n",
       "5107  {'neg': 0.524, 'neu': 0.476, 'pos': 0.0, 'comp...    -0.296       0.0   \n",
       "5142  {'neg': 0.524, 'neu': 0.476, 'pos': 0.0, 'comp...    -0.296       0.0   \n",
       "5147  {'neg': 0.524, 'neu': 0.476, 'pos': 0.0, 'comp...    -0.296       0.0   \n",
       "5176  {'neg': 0.524, 'neu': 0.476, 'pos': 0.0, 'comp...    -0.296       0.0   \n",
       "5213  {'neg': 0.524, 'neu': 0.476, 'pos': 0.0, 'comp...    -0.296       0.0   \n",
       "\n",
       "      Negative  Neutral MessageType           TimeStamp       Day  Hour  \n",
       "143      0.524    0.476   Non-Flirt 2017-04-03 04:51:00    Monday     4  \n",
       "4040     0.524    0.476   Non-Flirt 2022-10-15 14:51:00  Saturday    14  \n",
       "4981     0.524    0.476   Non-Flirt 2023-04-16 10:23:00    Sunday    10  \n",
       "5006     0.524    0.476   Non-Flirt 2023-05-01 16:56:00    Monday    16  \n",
       "5107     0.524    0.476   Non-Flirt 2023-06-12 18:04:00    Monday    18  \n",
       "5142     0.524    0.476   Non-Flirt 2023-06-19 13:58:00    Monday    13  \n",
       "5147     0.524    0.476   Non-Flirt 2023-06-23 12:26:00    Friday    12  \n",
       "5176     0.524    0.476   Non-Flirt 2023-09-01 19:27:00    Friday    19  \n",
       "5213     0.524    0.476   Non-Flirt 2023-09-30 13:35:00  Saturday    13  "
      ]
     },
     "execution_count": 158,
     "metadata": {},
     "output_type": "execute_result"
    }
   ],
   "source": [
    "missed_call_df = df[(df['Name'].notnull()) & (df['cleaned_messages'] == 'Missed voice call')]\n",
    "missed_call_df"
   ]
  },
  {
   "cell_type": "markdown",
   "id": "15ac1be5-4196-47d7-9cb2-4c060d763954",
   "metadata": {},
   "source": [
    "## Visualization "
   ]
  },
  {
   "cell_type": "code",
   "execution_count": 82,
   "id": "761150d8-4a02-4172-a32f-b1cb1ce43e7d",
   "metadata": {},
   "outputs": [
    {
     "data": {
      "text/plain": [
       "<Axes: xlabel='Compound'>"
      ]
     },
     "execution_count": 82,
     "metadata": {},
     "output_type": "execute_result"
    },
    {
     "data": {
      "image/png": "[encoded data removed]",
      "text/plain": [
       "<Figure size 640x480 with 1 Axes>"
      ]
     },
     "metadata": {},
     "output_type": "display_data"
    }
   ],
   "source": [
    "sb.barplot(data=df, x = 'Compound', hue = 'Name', palette = 'magma' )"
   ]
  },
  {
   "cell_type": "code",
   "execution_count": 81,
   "id": "561a1aac-cfe7-40ba-b2d2-7498df708648",
   "metadata": {},
   "outputs": [
    {
     "data": {
      "text/plain": [
       "<Axes: xlabel='Day', ylabel='count'>"
      ]
     },
     "execution_count": 81,
     "metadata": {},
     "output_type": "execute_result"
    },
    {
     "data": {
      "image/png": "[encoded data removed]",
      "text/plain": [
       "<Figure size 640x480 with 1 Axes>"
      ]
     },
     "metadata": {},
     "output_type": "display_data"
    }
   ],
   "source": [
    "sb.countplot(data=df, x = 'Day', hue = 'Name', palette = 'viridis' )"
   ]
  },
  {
   "cell_type": "code",
   "execution_count": 90,
   "id": "a56182e0-5e0c-4128-9d98-b46170600c3c",
   "metadata": {},
   "outputs": [
    {
     "data": {
      "text/plain": [
       "<Axes: xlabel='MessageType', ylabel='count'>"
      ]
     },
     "execution_count": 90,
     "metadata": {},
     "output_type": "execute_result"
    },
    {
     "data": {
      "image/png": "[encoded data removed]",
      "text/plain": [
       "<Figure size 640x480 with 1 Axes>"
      ]
     },
     "metadata": {},
     "output_type": "display_data"
    }
   ],
   "source": [
    "sb.countplot(data=df, x = 'MessageType', hue = 'Name', palette = 'husl' )"
   ]
  },
  {
   "cell_type": "code",
   "execution_count": 92,
   "id": "4b4743ef-c3e1-48e5-8b4b-5586da46022f",
   "metadata": {},
   "outputs": [
    {
     "data": {
      "text/plain": [
       "<Axes: xlabel='Positive', ylabel='Negative'>"
      ]
     },
     "execution_count": 92,
     "metadata": {},
     "output_type": "execute_result"
    },
    {
     "data": {
      "image/png": "[encoded data removed]",
      "text/plain": [
       "<Figure size 640x480 with 1 Axes>"
      ]
     },
     "metadata": {},
     "output_type": "display_data"
    }
   ],
   "source": [
    "sb.scatterplot(data=df, x = 'Positive', y = 'Negative', hue = 'Name', palette = 'dark' )"
   ]
  },
  {
   "cell_type": "code",
   "execution_count": 100,
   "id": "0771a728-90a8-4c80-9dbc-75862bae5bb5",
   "metadata": {},
   "outputs": [
    {
     "data": {
      "text/plain": [
       "<Axes: xlabel='Hour', ylabel='count'>"
      ]
     },
     "execution_count": 100,
     "metadata": {},
     "output_type": "execute_result"
    },
    {
     "data": {
      "image/png": "[encoded data removed]",
      "text/plain": [
       "<Figure size 640x480 with 1 Axes>"
      ]
     },
     "metadata": {},
     "output_type": "display_data"
    }
   ],
   "source": [
    "sb.countplot(data=df, x = 'Hour', hue = 'Name', palette = 'magma' )"
   ]
  },
  {
   "cell_type": "code",
   "execution_count": null,
   "id": "36c4f4d0-ecd6-4658-b203-79f1fd8cd670",
   "metadata": {},
   "outputs": [],
   "source": []
  },
  {
   "cell_type": "code",
   "execution_count": null,
   "id": "a914a962-d89d-408b-9e46-c284ad534b93",
   "metadata": {},
   "outputs": [],
   "source": []
  },
  {
   "cell_type": "code",
   "execution_count": null,
   "id": "8bbf9f74-66d2-4bfc-b733-ccf012feb6aa",
   "metadata": {},
   "outputs": [],
   "source": []
  },
  {
   "cell_type": "code",
   "execution_count": null,
   "id": "56e097ef-9784-44e3-a278-ea0e54bb5601",
   "metadata": {},
   "outputs": [],
   "source": []
  },
  {
   "cell_type": "code",
   "execution_count": null,
   "id": "9ae2d4b4-63df-497c-947d-7c8a4c195040",
   "metadata": {},
   "outputs": [],
   "source": []
  }
 ],
 "metadata": {
  "kernelspec": {
   "display_name": "Python 3 (ipykernel)",
   "language": "python",
   "name": "python3"
  },
  "language_info": {
   "codemirror_mode": {
    "name": "ipython",
    "version": 3
   },
   "file_extension": ".py",
   "mimetype": "text/x-python",
   "name": "python",
   "nbconvert_exporter": "python",
   "pygments_lexer": "ipython3",
   "version": "3.12.4"
  }
 },
 "nbformat": 4,
 "nbformat_minor": 5
}
